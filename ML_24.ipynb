{
 "cells": [
  {
   "cell_type": "markdown",
   "id": "46cf9390",
   "metadata": {},
   "source": [
    "1.\tWhat is your definition of clustering? What are a few clustering algorithms you might think of?\n",
    "•\tClustering is a type of unsupervised learning method that involves grouping data points with similar characteristics into clusters. Some popular clustering algorithms include K-means, hierarchical clustering, and DBSCAN.\n",
    "2.\tWhat are some of the most popular clustering algorithm applications?\n",
    "•\tClustering algorithms can be used in a wide range of applications, including customer segmentation, image segmentation, anomaly detection, and recommender systems.\n",
    "3.\tWhen using K-Means, describe two strategies for selecting the appropriate number of clusters.\n",
    "•\tTwo common strategies for selecting the appropriate number of clusters in K-Means are the elbow method and the silhouette score method. The elbow method involves plotting the within-cluster sum of squares against the number of clusters and selecting the point where the change in slope (the \"elbow\") is the most significant. The silhouette score method involves calculating the average silhouette score for different values of K and selecting the value that gives the highest score.\n",
    "4.\tWhat is mark propagation and how does it work? Why would you do it, and how would you do it?\n",
    "•\tMark propagation is a clustering algorithm that involves propagating cluster labels from one data point to its neighbors based on their similarities. This process is repeated until no more updates can be made. Mark propagation can be useful for image segmentation and community detection in social networks.\n",
    "5.\tProvide two examples of clustering algorithms that can handle large datasets. And two that look for high-density areas?\n",
    "•\tTwo clustering algorithms that can handle large datasets are MiniBatch K-Means and DBSCAN. Two clustering algorithms that look for high-density areas are MeanShift and OPTICS.\n",
    "6.\tCan you think of a scenario in which constructive learning will be advantageous? How can you go about putting it into action?\n",
    "•\tConstructive learning can be useful in scenarios where new data is continually being generated, and the model needs to adapt to these changes. An example of this is in online recommendation systems, where user preferences change over time. To implement constructive learning, the model needs to be trained incrementally, adding new data as it becomes available.\n",
    "7.\tHow do you tell the difference between anomaly and novelty detection?\n",
    "•\tAnomaly detection involves identifying data points that are significantly different from the rest of the data, while novelty detection involves identifying data points that are different from anything seen before. Anomaly detection is used to find outliers in data, while novelty detection is used to detect new and unexpected patterns.\n",
    "8.\tWhat is a Gaussian mixture, and how does it work? What are some of the things you can do about it?\n",
    "•\tA Gaussian mixture is a type of probabilistic model that represents data as a mixture of Gaussian distributions. Each Gaussian represents a cluster in the data, and the model learns the parameters of the Gaussians from the data. One way to use a Gaussian mixture is for clustering, where the model can learn the number of clusters and their characteristics. Other applications include density estimation and anomaly detection.\n",
    "9.\tWhen using a Gaussian mixture model, can you name two techniques for determining the correct number of clusters?\n",
    "•\tTwo techniques for determining the correct number of clusters in a Gaussian mixture model are the Bayesian Information Criterion (BIC) and the Akaike Information Criterion (AIC). Both methods penalize models with a larger number of parameters and can help select the number of clusters that best balance model complexity and fit to the data.\n",
    "\n"
   ]
  },
  {
   "cell_type": "code",
   "execution_count": null,
   "id": "72d22ad8",
   "metadata": {},
   "outputs": [],
   "source": []
  }
 ],
 "metadata": {
  "kernelspec": {
   "display_name": "Python 3 (ipykernel)",
   "language": "python",
   "name": "python3"
  },
  "language_info": {
   "codemirror_mode": {
    "name": "ipython",
    "version": 3
   },
   "file_extension": ".py",
   "mimetype": "text/x-python",
   "name": "python",
   "nbconvert_exporter": "python",
   "pygments_lexer": "ipython3",
   "version": "3.9.12"
  }
 },
 "nbformat": 4,
 "nbformat_minor": 5
}
