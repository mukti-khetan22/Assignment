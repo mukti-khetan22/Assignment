{
 "cells": [
  {
   "cell_type": "markdown",
   "id": "0a03f0c7",
   "metadata": {},
   "source": [
    "Q1. What is the meaning of multiple inheritance in python? Answer:  if a child class inherits from more than one class, i.e. this child class is derived from multiple classes, we call it multiple inheritance in Python."
   ]
  },
  {
   "cell_type": "markdown",
   "id": "e2ac2f58",
   "metadata": {},
   "source": [
    "Q2. What is the concept of delegation in python? Answer: the delegation pattern is an object-oriented design pattern that allows object composition to achieve the same code reuse as inheritance."
   ]
  },
  {
   "cell_type": "markdown",
   "id": "c7337330",
   "metadata": {},
   "source": [
    "Q3. What is the concept of composition? Answer:Composition is a concept that models a has a relationship. It enables creating complex types by combining objects of other types. This means that a class Composite can contain an object of another class Component . This relationship means that a Composite has a Component .\n"
   ]
  },
  {
   "cell_type": "markdown",
   "id": "20de33ef",
   "metadata": {},
   "source": [
    "Q4. What are bound methods and how do we use them? Answer: The Bound methods are the methods defined in a class. The bound methods are bound to the class in which they are defined. They take an instance of their class along with the other arguments as its parameters."
   ]
  },
  {
   "cell_type": "markdown",
   "id": "4247419d",
   "metadata": {},
   "source": [
    "Q5. What is the purpose of pseudoprivate attributes? Answer: One of the main problems that the pseudoprivate attribute feature is meant to alleviate has to do with the way instance attributes are stored. In Python, all instance attributes wind up in the single instance object at the bottom of the class tree."
   ]
  }
 ],
 "metadata": {
  "kernelspec": {
   "display_name": "Python 3 (ipykernel)",
   "language": "python",
   "name": "python3"
  },
  "language_info": {
   "codemirror_mode": {
    "name": "ipython",
    "version": 3
   },
   "file_extension": ".py",
   "mimetype": "text/x-python",
   "name": "python",
   "nbconvert_exporter": "python",
   "pygments_lexer": "ipython3",
   "version": "3.9.12"
  }
 },
 "nbformat": 4,
 "nbformat_minor": 5
}
