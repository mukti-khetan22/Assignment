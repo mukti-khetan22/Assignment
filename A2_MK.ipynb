{
 "cells": [
  {
   "cell_type": "markdown",
   "id": "975bd295",
   "metadata": {},
   "source": [
    "Q1. What is the relationship between classes and modules? Answer: Classes may generate instances (objects), and have per-instance state (instance variables). Modules may be mixed in to classes and other modules."
   ]
  },
  {
   "cell_type": "markdown",
   "id": "a3710cf2",
   "metadata": {},
   "source": [
    "Q2. How do you make instances and classes? Answer: The class statement creates a new class definition. To create instances of a class, you call the class using class name and pass in whatever arguments its __init__ method accepts"
   ]
  },
  {
   "cell_type": "markdown",
   "id": "50978623",
   "metadata": {},
   "source": [
    "Q3. Where and how should be class attributes created? Answer: A class attribute is shared by all instances of the class. To define a class attribute, you place it outside of the __init__() method. Use class_name. ... Use class attributes for storing class contants, track data across all instances, and setting default values for all instances of the class."
   ]
  },
  {
   "cell_type": "markdown",
   "id": "5db29710",
   "metadata": {},
   "source": [
    "Q4. Where and how are instance attributes created? Answer: Instance attributes are defined in the constructor. Defined directly inside a class. Defined inside a constructor using the self parameter."
   ]
  },
  {
   "cell_type": "markdown",
   "id": "628691f0",
   "metadata": {},
   "source": [
    "Q5. What does the term \"self\" in a Python class mean? Answer: The word 'self' is used to represent the instance of a class."
   ]
  },
  {
   "cell_type": "markdown",
   "id": "497c54b9",
   "metadata": {},
   "source": [
    "Q6. How does a Python class handle operator overloading? Answer: The operator overloading in Python means provide extended meaning beyond their predefined operational meaning. "
   ]
  },
  {
   "cell_type": "markdown",
   "id": "65b96573",
   "metadata": {},
   "source": [
    "Q7. When do you consider allowing operator overloading of your classes? Answer: Operator overloading is mostly useful when you're making a new class that falls into an existing \"Abstract Base Class\" (ABC)"
   ]
  },
  {
   "cell_type": "markdown",
   "id": "470b6b07",
   "metadata": {},
   "source": [
    "Q8. What is the most popular form of operator overloading? Answer: A very popular and convenient example is the Addition (+) operator. Just think how the '+' operator operates on two numbers and the same operator operates on two strings. It performs “Addition” on numbers whereas it performs “Concatenation” on strings."
   ]
  },
  {
   "cell_type": "markdown",
   "id": "fb6900dc",
   "metadata": {},
   "source": [
    "Q9. What are the two most important concepts to grasp in order to comprehend Python OOP code? Answer: Both inheritance and polymorphism are fundamental concepts of object oriented programming. These concepts help us to create code that can be extended and easily maintainable"
   ]
  }
 ],
 "metadata": {
  "kernelspec": {
   "display_name": "Python 3 (ipykernel)",
   "language": "python",
   "name": "python3"
  },
  "language_info": {
   "codemirror_mode": {
    "name": "ipython",
    "version": 3
   },
   "file_extension": ".py",
   "mimetype": "text/x-python",
   "name": "python",
   "nbconvert_exporter": "python",
   "pygments_lexer": "ipython3",
   "version": "3.9.12"
  }
 },
 "nbformat": 4,
 "nbformat_minor": 5
}
