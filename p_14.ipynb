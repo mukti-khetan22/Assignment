{
 "cells": [
  {
   "cell_type": "code",
   "execution_count": null,
   "id": "85c0a5b7",
   "metadata": {},
   "outputs": [],
   "source": [
    "1.\tWhat does RGBA stand for?\n",
    "\n",
    "RGBA stands for Red, Green, Blue, and Alpha.\n",
    "\n",
    "2.\tFrom the Pillow module, how do you get the RGBA value of any images?\n",
    "\n",
    "You can get the RGBA value of any image using the getpixel() method from the Image module of the Pillow library.\n",
    "\n",
    "3.\tWhat is a box tuple, and how does it work?\n",
    "\n",
    "A box tuple is a tuple of four integers representing a rectangular region in an image. The four integers are the left, upper, right, and lower pixel coordinates of the rectangular region. It works by providing a way to specify a rectangular region of an image by its pixel coordinates.\n",
    "\n",
    "4.\tUse your image and load in notebook then, How can you find out the width and height of an Image object?\n",
    "\n",
    "You can find out the width and height of an Image object using the size attribute of the Image object. For example, if the Image object is stored in a variable called img, you can get its width and height using img.size.\n",
    "\n",
    "5.\tWhat method would you call to get Image object for a 100×100 image, excluding the lower-left quarter of it?\n",
    "\n",
    "You would call the crop() method of the Image object with the argument (0, 50, 50, 100) to get an Image object for a 100x100 image, excluding the lower-left quarter of it.\n",
    "\n",
    "6.\tAfter making changes to an Image object, how could you save it as an image file?\n",
    "\n",
    "You can save the modified Image object as an image file using the save() method of the Image object. The method takes the filename and the file format as arguments.\n",
    "\n",
    "7.\tWhat module contains Pillow’s shape-drawing code?\n",
    "\n",
    "The ImageDraw module contains Pillow's shape-drawing code.\n",
    "\n",
    "8.\tImage objects do not have drawing methods. What kind of object does? How do you get this kind of object?\n",
    "\n",
    "The ImageDraw object has drawing methods. You can get an ImageDraw object by calling the ImageDraw.Draw() function with an Image object as an argumen\n",
    "\n"
   ]
  }
 ],
 "metadata": {
  "kernelspec": {
   "display_name": "Python 3 (ipykernel)",
   "language": "python",
   "name": "python3"
  },
  "language_info": {
   "codemirror_mode": {
    "name": "ipython",
    "version": 3
   },
   "file_extension": ".py",
   "mimetype": "text/x-python",
   "name": "python",
   "nbconvert_exporter": "python",
   "pygments_lexer": "ipython3",
   "version": "3.9.12"
  }
 },
 "nbformat": 4,
 "nbformat_minor": 5
}
