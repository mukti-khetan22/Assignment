{
 "cells": [
  {
   "cell_type": "code",
   "execution_count": 5,
   "id": "eeb7d433",
   "metadata": {},
   "outputs": [
    {
     "name": "stdout",
     "output_type": "stream",
     "text": [
      "Open 9-5 daily\n",
      "Open 9-5 daily\n",
      "Plain dictionary: {'a': 1, 'b': 2, 'c': 3}\n",
      "Fancy dictionary: OrderedDict([('a', 1), ('b', 2), ('c', 3)])\n",
      "dict_of_lists['a']: ['something for a']\n"
     ]
    }
   ],
   "source": [
    "# 1. Define the hours() function, which prints the string 'Open 9-5 daily'.\n",
    "def hours():\n",
    "    print('Open 9-5 daily')\n",
    "\n",
    "# 2. Call the hours() function.\n",
    "hours()\n",
    "\n",
    "# 3. Call the hours() function again.\n",
    "hours()\n",
    "\n",
    "# 4. Import the hours() function as info and call it.\n",
    "from collections import OrderedDict as info\n",
    "info()\n",
    "\n",
    "# 5. Create a plain dictionary with the key-value pairs 'a': 1, 'b': 2, and 'c': 3, and print it out.\n",
    "plain_dict = {'a': 1, 'b': 2, 'c': 3}\n",
    "print('Plain dictionary:', plain_dict)\n",
    "\n",
    "# 6. Make an OrderedDict called fancy from the same pairs listed in 5 and print it. Did it print in the same order as plain?\n",
    "from collections import OrderedDict\n",
    "fancy_dict = OrderedDict([('a', 1), ('b', 2), ('c', 3)])\n",
    "print('Fancy dictionary:', fancy_dict)\n",
    "# Yes, the OrderedDict maintains the insertion order of the key-value pairs.\n",
    "\n",
    "# 7. Make a default dictionary called dict_of_lists and pass it the argument list. Make the list dict_of_lists['a'] and append the value 'something for a' to it in one assignment. Print dict_of_lists['a'].\n",
    "from collections import defaultdict\n",
    "dict_of_lists = defaultdict(list)\n",
    "dict_of_lists['a'].append('something for a')\n",
    "print(\"dict_of_lists['a']:\", dict_of_lists['a'])"
   ]
  },
  {
   "cell_type": "code",
   "execution_count": null,
   "id": "5e0b411a",
   "metadata": {},
   "outputs": [],
   "source": []
  }
 ],
 "metadata": {
  "kernelspec": {
   "display_name": "Python 3 (ipykernel)",
   "language": "python",
   "name": "python3"
  },
  "language_info": {
   "codemirror_mode": {
    "name": "ipython",
    "version": 3
   },
   "file_extension": ".py",
   "mimetype": "text/x-python",
   "name": "python",
   "nbconvert_exporter": "python",
   "pygments_lexer": "ipython3",
   "version": "3.9.12"
  }
 },
 "nbformat": 4,
 "nbformat_minor": 5
}
