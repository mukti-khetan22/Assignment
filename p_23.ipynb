{
 "cells": [
  {
   "cell_type": "code",
   "execution_count": 2,
   "id": "60648a46",
   "metadata": {},
   "outputs": [
    {
     "name": "stdout",
     "output_type": "stream",
     "text": [
      "1 2 8\n",
      "1 2 3\n",
      "1 (2, 3)\n",
      "1 {'c': 3, 'b': 2}\n",
      "1 5 6 5\n"
     ]
    },
    {
     "data": {
      "text/plain": [
       "(1, ['x'], {'a': 'y'})"
      ]
     },
     "execution_count": 2,
     "metadata": {},
     "output_type": "execute_result"
    }
   ],
   "source": [
    "# 1. What is the result of the code, and why?\n",
    "def func(a, b=6, c=8):\n",
    "    print(a, b, c)\n",
    "\n",
    "func(1, 2)\n",
    "# Output: 1 2 8\n",
    "# Explanation: The function `func()` is called with the arguments 1 and 2. The value of `a` is set to 1,\n",
    "# `b` is set to 2, and since no value is provided for `c`, it takes the default value of 8.\n",
    "# Therefore, when the function is executed, it prints 1 2 8.\n",
    "\n",
    "# 2. What is the result of this code, and why?\n",
    "def func(a, b, c=5):\n",
    "    print(a, b, c)\n",
    "\n",
    "func(1, c=3, b=2)\n",
    "# Output: 1 2 3\n",
    "# Explanation: The function `func()` is called with the arguments 1 and 2. The value of `a` is set to 1,\n",
    "# `b` is set to 2, and the value of `c` is explicitly passed as 3. Therefore, when the function is executed,\n",
    "# it prints 1 2 3.\n",
    "\n",
    "# 3. How about this code: what is its result, and why?\n",
    "def func(a, *pargs):\n",
    "    print(a, pargs)\n",
    "\n",
    "func(1, 2, 3)\n",
    "# Output: 1 (2, 3)\n",
    "# Explanation: The function `func()` is called with the argument 1 and additional arguments 2 and 3.\n",
    "# The parameter `a` is set to 1, and the `*pargs` parameter collects any extra positional arguments into a tuple.\n",
    "# Therefore, when the function is executed, it prints 1 followed by a tuple containing the remaining arguments (2, 3).\n",
    "\n",
    "# 4. What does this code print, and why?\n",
    "def func(a, **kargs):\n",
    "    print(a, kargs)\n",
    "\n",
    "func(a=1, c=3, b=2)\n",
    "# Output: 1 {'c': 3, 'b': 2}\n",
    "# Explanation: The function `func()` is called with keyword arguments. The parameter `a` is set to 1,\n",
    "# and the `**kargs` parameter collects any extra keyword arguments into a dictionary. Therefore, when the function\n",
    "# is executed, it prints 1 followed by a dictionary containing the remaining keyword arguments (c=3, b=2).\n",
    "\n",
    "# 5. What gets printed by this, and explain?\n",
    "def func(a, b, c=8, d=5):\n",
    "    print(a, b, c, d)\n",
    "\n",
    "func(1, *(5, 6))\n",
    "# Output: 1 5 6 5\n",
    "# Explanation: The function `func()` is called with the arguments 1, 5, and 6. The value of `a` is set to 1,\n",
    "# `b` is set to 5, and `c` is set to 6. The default value of `d` is used, which is 5. Therefore, when the function\n",
    "# is executed, it prints 1 5 6 5.\n",
    "\n",
    "# 6. what is the result of this, and explain?\n",
    "def func(a, b, c):\n",
    "    a = 2\n",
    "    b[0] = 'x'\n",
    "    c['a'] = 'y'\n",
    "\n",
    "l = 1\n",
    "m = [1]\n",
    "n = {'a': 0}\n",
    "func(l, m, n)\n",
    "l, m, n\n",
    "# Output"
   ]
  },
  {
   "cell_type": "code",
   "execution_count": null,
   "id": "d2753ea6",
   "metadata": {},
   "outputs": [],
   "source": []
  }
 ],
 "metadata": {
  "kernelspec": {
   "display_name": "Python 3 (ipykernel)",
   "language": "python",
   "name": "python3"
  },
  "language_info": {
   "codemirror_mode": {
    "name": "ipython",
    "version": 3
   },
   "file_extension": ".py",
   "mimetype": "text/x-python",
   "name": "python",
   "nbconvert_exporter": "python",
   "pygments_lexer": "ipython3",
   "version": "3.9.12"
  }
 },
 "nbformat": 4,
 "nbformat_minor": 5
}
