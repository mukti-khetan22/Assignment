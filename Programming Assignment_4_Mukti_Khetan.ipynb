{
 "cells": [
  {
   "cell_type": "markdown",
   "id": "11b391f7",
   "metadata": {},
   "source": [
    "1. Write a Python Program to Find the Factorial of a Number?\n",
    "\n",
    "\n",
    "\n",
    "\n"
   ]
  },
  {
   "cell_type": "code",
   "execution_count": 1,
   "id": "5792b1d9",
   "metadata": {},
   "outputs": [
    {
     "name": "stdout",
     "output_type": "stream",
     "text": [
      "Enter a number: 5\n",
      "The factorial of 5 is 120\n"
     ]
    }
   ],
   "source": [
    "\n",
    "num = int(input(\"Enter a number: \"))\n",
    "\n",
    "factorial = 1\n",
    "\n",
    "if num < 0:\n",
    "   print(\"factorial does not exist for negative numbers\")\n",
    "elif num == 0:\n",
    "   print(\"The factorial of 0 is 1\")\n",
    "else:\n",
    "   for i in range(1,num + 1):\n",
    "       factorial = factorial*i\n",
    "   print(\"The factorial of\",num,\"is\",factorial)"
   ]
  },
  {
   "cell_type": "markdown",
   "id": "a3e062cd",
   "metadata": {},
   "source": [
    "2. Write a Python Program to Display the multiplication Table?"
   ]
  },
  {
   "cell_type": "code",
   "execution_count": 3,
   "id": "6c182f54",
   "metadata": {},
   "outputs": [
    {
     "name": "stdout",
     "output_type": "stream",
     "text": [
      "Display multiplication table of? 5\n",
      "5 x 1 = 5\n",
      "5 x 2 = 10\n",
      "5 x 3 = 15\n",
      "5 x 4 = 20\n",
      "5 x 5 = 25\n",
      "5 x 6 = 30\n",
      "5 x 7 = 35\n",
      "5 x 8 = 40\n",
      "5 x 9 = 45\n",
      "5 x 10 = 50\n"
     ]
    }
   ],
   "source": [
    "num = int(input(\"Display multiplication table of? \"))\n",
    "\n",
    "# Iterate 10 times from i = 1 to 10\n",
    "for i in range(1, 11):\n",
    "   print(num, 'x', i, '=', num*i)"
   ]
  },
  {
   "cell_type": "markdown",
   "id": "63cae70b",
   "metadata": {},
   "source": [
    "3. Write a Python Program to Print the Fibonacci sequence?"
   ]
  },
  {
   "cell_type": "code",
   "execution_count": 4,
   "id": "f6552402",
   "metadata": {},
   "outputs": [
    {
     "name": "stdout",
     "output_type": "stream",
     "text": [
      "How many terms? 2\n",
      "Fibonacci sequence:\n",
      "0\n",
      "1\n"
     ]
    }
   ],
   "source": [
    "nterms = int(input(\"How many terms? \"))\n",
    "\n",
    "# first two terms\n",
    "n1, n2 = 0, 1\n",
    "count = 0\n",
    "\n",
    "# check if the number of terms is valid\n",
    "if nterms <= 0:\n",
    "   print(\"Please enter a positive integer\")\n",
    "# if there is only one term, return n1\n",
    "elif nterms == 1:\n",
    "   print(\"Fibonacci sequence upto\",nterms,\":\")\n",
    "   print(n1)\n",
    "# generate fibonacci sequence\n",
    "else:\n",
    "   print(\"Fibonacci sequence:\")\n",
    "   while count < nterms:\n",
    "       print(n1)\n",
    "       nth = n1 + n2\n",
    "       # update values\n",
    "       n1 = n2\n",
    "       n2 = nth\n",
    "       count += 1"
   ]
  },
  {
   "cell_type": "markdown",
   "id": "35dbf1a2",
   "metadata": {},
   "source": [
    "4. Write a Python Program to Check Armstrong Number?"
   ]
  },
  {
   "cell_type": "code",
   "execution_count": 5,
   "id": "f906ea0e",
   "metadata": {},
   "outputs": [
    {
     "name": "stdout",
     "output_type": "stream",
     "text": [
      "Enter a number: 5\n",
      "5 is not an Armstrong number\n"
     ]
    }
   ],
   "source": [
    "\n",
    "num = int(input(\"Enter a number: \"))\n",
    "\n",
    "# initialize sum\n",
    "sum = 0\n",
    "\n",
    "# find the sum of the cube of each digit\n",
    "temp = num\n",
    "while temp > 0:\n",
    "   digit = temp % 10\n",
    "   sum += digit ** 3\n",
    "   temp //= 10\n",
    "\n",
    "if num == sum:\n",
    "   print(num,\"is an Armstrong number\")\n",
    "else:\n",
    "   print(num,\"is not an Armstrong number\")"
   ]
  },
  {
   "cell_type": "markdown",
   "id": "0e153c69",
   "metadata": {},
   "source": [
    "5. Write a Python Program to Find Armstrong Number in an Interval?"
   ]
  },
  {
   "cell_type": "code",
   "execution_count": 7,
   "id": "f5541ea2",
   "metadata": {},
   "outputs": [
    {
     "name": "stdout",
     "output_type": "stream",
     "text": [
      "1634\n"
     ]
    }
   ],
   "source": [
    "\n",
    "\n",
    "lower = 1000\n",
    "upper = 2000\n",
    "\n",
    "for num in range(lower, upper + 1):\n",
    "\n",
    "   # order of number\n",
    "   order = len(str(num))\n",
    "    \n",
    "   # initialize sum\n",
    "   sum = 0\n",
    "\n",
    "   temp = num\n",
    "   while temp > 0:\n",
    "       digit = temp % 10\n",
    "       sum += digit ** order\n",
    "       temp //= 10\n",
    "\n",
    "   if num == sum:\n",
    "       print(num)"
   ]
  },
  {
   "cell_type": "markdown",
   "id": "e4cc9965",
   "metadata": {},
   "source": [
    "6. Write a Python Program to Find the Sum of Natural Numbers?"
   ]
  },
  {
   "cell_type": "code",
   "execution_count": 8,
   "id": "191cf362",
   "metadata": {},
   "outputs": [
    {
     "name": "stdout",
     "output_type": "stream",
     "text": [
      "The sum is 136\n"
     ]
    }
   ],
   "source": [
    "num = 16\n",
    "\n",
    "if num < 0:\n",
    "   print(\"Enter a positive number\")\n",
    "else:\n",
    "   sum = 0\n",
    "   # use while loop to iterate until zero\n",
    "   while(num > 0):\n",
    "       sum += num\n",
    "       num -= 1\n",
    "   print(\"The sum is\", sum)"
   ]
  }
 ],
 "metadata": {
  "kernelspec": {
   "display_name": "Python 3 (ipykernel)",
   "language": "python",
   "name": "python3"
  },
  "language_info": {
   "codemirror_mode": {
    "name": "ipython",
    "version": 3
   },
   "file_extension": ".py",
   "mimetype": "text/x-python",
   "name": "python",
   "nbconvert_exporter": "python",
   "pygments_lexer": "ipython3",
   "version": "3.9.12"
  }
 },
 "nbformat": 4,
 "nbformat_minor": 5
}
