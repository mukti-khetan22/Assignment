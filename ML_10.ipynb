{
 "cells": [
  {
   "cell_type": "markdown",
   "id": "2e1b8f81",
   "metadata": {},
   "source": [
    "1. Define the Bayesian interpretation of probability. Answer: The Bayesian interpretation of probability is that it represents a degree of belief or confidence in the occurrence of an event, based on prior knowledge and evidence. It is calculated using Bayes' theorem, which updates the prior probability with new information to obtain a posterior probability."
   ]
  },
  {
   "cell_type": "markdown",
   "id": "d8dac777",
   "metadata": {},
   "source": [
    "2. Define probability of a union of two events with equation. Answer: The probability of the union of two events A and B is defined as: P(A ∪ B) = P(A) + P(B) - P(A ∩ B)"
   ]
  },
  {
   "cell_type": "markdown",
   "id": "5eaa191e",
   "metadata": {},
   "source": [
    "3. What is joint probability? What is its formula? Answer: Joint probability is the probability of the occurrence of two or more events together. Its formula is: P(A ∩ B) = P(A|B) x P(B) = P(B|A) x P(A), where P(A|B) represents the conditional probability of A given B."
   ]
  },
  {
   "cell_type": "markdown",
   "id": "5950e567",
   "metadata": {},
   "source": [
    "4. What is chain rule of probability? Answer: The chain rule of probability states that the probability of multiple events occurring together can be calculated by multiplying the conditional probabilities of each event given the occurrence of the previous events."
   ]
  },
  {
   "cell_type": "markdown",
   "id": "47e96a71",
   "metadata": {},
   "source": [
    "5. What is conditional probability means? What is the formula of it? Answer: Conditional probability is the probability of an event occurring given that another event has already occurred. The formula for conditional probability is: P(A|B) = P(A ∩ B) / P(B), where P(A ∩ B) is the joint probability of A and B, and P(B) is the probability of B."
   ]
  },
  {
   "cell_type": "markdown",
   "id": "fbed1e17",
   "metadata": {},
   "source": [
    "6. What are continuous random variables? Answer: Continuous random variables are variables that can take on any value within a specified range or interval, with an infinite number of possible values."
   ]
  },
  {
   "cell_type": "markdown",
   "id": "a8922b05",
   "metadata": {},
   "source": [
    "7. What are Bernoulli distributions? What is the formula of it? Answer: The Bernoulli distribution is a probability distribution representing the probability of a single binary event, such as success or failure. Its formula is: P(X=x) = p^x * (1-p)^(1-x), where p is the probability of success, x is the outcome (0 or 1), and (1-p) is the probability of failure."
   ]
  },
  {
   "cell_type": "markdown",
   "id": "379b5d73",
   "metadata": {},
   "source": [
    "8. What is binomial distribution? What is the formula? Answer: The binomial distribution is a probability distribution representing the probability of a specific number of successes in a fixed number of independent trials, with a constant probability of success. Its formula is: P(X=k) = (n choose k) * p^k * (1-p)^(n-k), where n is the number of trials, p is the probability of success, k is the number of successful trials, and (n choose k) is the binomial coefficient."
   ]
  },
  {
   "cell_type": "markdown",
   "id": "6ccdef53",
   "metadata": {},
   "source": [
    "9. What is Poisson distribution? What is the formula? Answer: The Poisson distribution is a probability distribution representing the probability of a certain number of events occurring in a fixed interval of time or space, given a known average rate of occurrence. Its formula is: P(X=k) = (e^(-λ) * λ^k) / k!, where λ is the average rate of occurrence and k is the number of events."
   ]
  },
  {
   "cell_type": "markdown",
   "id": "b3314269",
   "metadata": {},
   "source": [
    "10. Define covariance. Answer: Covariance is a measure of the extent to which two random variables are linearly related."
   ]
  },
  {
   "cell_type": "markdown",
   "id": "bcef67a9",
   "metadata": {},
   "source": [
    "11. Define correlation. Answer: Correlation is a measure of the strength and direction of the linear relationship between two variables."
   ]
  },
  {
   "cell_type": "markdown",
   "id": "2f981c0a",
   "metadata": {},
   "source": [
    "12. Define sampling with replacement. Give example. Answer: Sampling with replacement is a method of selecting individuals from a population where each individual has an equal chance of being selected, and after each selection, the individual is returned to the population before the next selection. An example of sampling with replacement is drawing cards from a deck and returning each card before drawing again."
   ]
  },
  {
   "cell_type": "markdown",
   "id": "ccd43641",
   "metadata": {},
   "source": [
    "13. What is sampling without replacement ? Give example. Answer: Sampling without replacement is a method of selecting individuals from a population where each individual can be selected only once, and after each selection, the individual is removed from the population before the next selection. An example of sampling without replacement is selecting a group of students from a class to participate in a study, where each student can be selected only once."
   ]
  },
  {
   "cell_type": "markdown",
   "id": "aeb536a9",
   "metadata": {},
   "source": [
    "14. What is hypothesis? Give example. Answer: A hypothesis is a proposed explanation or prediction for a phenomenon or observation, which can be tested through further investigation or experimentation. An example of a hypothesis is that a new drug will be more effective than the current standard treatment for a certain medical condition."
   ]
  },
  {
   "cell_type": "code",
   "execution_count": null,
   "id": "9d435247",
   "metadata": {},
   "outputs": [],
   "source": []
  }
 ],
 "metadata": {
  "kernelspec": {
   "display_name": "Python 3 (ipykernel)",
   "language": "python",
   "name": "python3"
  },
  "language_info": {
   "codemirror_mode": {
    "name": "ipython",
    "version": 3
   },
   "file_extension": ".py",
   "mimetype": "text/x-python",
   "name": "python",
   "nbconvert_exporter": "python",
   "pygments_lexer": "ipython3",
   "version": "3.9.12"
  }
 },
 "nbformat": 4,
 "nbformat_minor": 5
}
