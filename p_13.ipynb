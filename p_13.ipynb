{
 "cells": [
  {
   "cell_type": "markdown",
   "id": "90d70c87",
   "metadata": {},
   "source": [
    "1.\tWhat advantages do Excel spreadsheets have over CSV spreadsheets? Excel spreadsheets have the advantage of being able to handle complex formatting and formulas, and can also contain multiple sheets.\n",
    "\n",
    "2.\tWhat do you pass to csv.reader() and csv.writer() to create reader and writer objects? You pass a File object to csv.reader() and csv.writer() to create reader and writer objects.\n",
    "\n",
    "3.\tWhat modes do File objects for reader and writer objects need to be opened in? The File objects for reader and writer objects need to be opened in 'r' mode and 'w' mode respectively.\n",
    "\n",
    "4.\tWhat method takes a list argument and writes it to a CSV file? The writerows() method takes a list argument and writes it to a CSV file.\n",
    "\n",
    "5.\tWhat do the keyword arguments delimiter and line terminator do? The delimiter keyword argument specifies the character used to separate fields in a CSV file, while the line terminator keyword argument specifies the character used to terminate each line in a CSV file.\n",
    "\n",
    "6.\tWhat function takes a string of JSON data and returns a Python data structure? The json.loads() function takes a string of JSON data and returns a Python data structure.\n",
    "\n",
    "7.\tWhat function takes a Python data structure and returns a string of JSON data?\n",
    "The json.dumps() function takes a Python data structure and returns a string of JSON data.\n"
   ]
  },
  {
   "cell_type": "code",
   "execution_count": null,
   "id": "b22c0f4a",
   "metadata": {},
   "outputs": [],
   "source": []
  }
 ],
 "metadata": {
  "kernelspec": {
   "display_name": "Python 3 (ipykernel)",
   "language": "python",
   "name": "python3"
  },
  "language_info": {
   "codemirror_mode": {
    "name": "ipython",
    "version": 3
   },
   "file_extension": ".py",
   "mimetype": "text/x-python",
   "name": "python",
   "nbconvert_exporter": "python",
   "pygments_lexer": "ipython3",
   "version": "3.9.12"
  }
 },
 "nbformat": 4,
 "nbformat_minor": 5
}
