{
 "cells": [
  {
   "cell_type": "markdown",
   "id": "dfe13cc5",
   "metadata": {},
   "source": [
    "1. What are the key tasks that machine learning entails? What does data pre-processing imply? Answer: Machine learning tasks involve several key steps:\n",
    "\n",
    "Data collection and preparation: Gathering data from various sources, including cleaning, formatting, and integrating it into a single dataset.\n",
    "\n",
    "Data pre-processing: Involves preparing the data for machine learning by scaling, transforming, normalizing, and encoding it into a format that can be used by the algorithm.\n",
    "\n",
    "Feature selection and extraction: This involves selecting the most important features in the dataset and extracting them for use in the machine learning model.\n",
    "\n",
    "Model selection and training: Choosing the appropriate machine learning model based on the task at hand and training it on the prepared dataset.\n",
    "\n",
    "Model evaluation: Testing the trained model on a test dataset to evaluate its performance and accuracy.\n",
    "\n",
    "Data pre-processing is a crucial step in machine learning, involving preparing the raw data for analysis by transforming it into a structured format that can be used by the algorithm. This includes dealing with missing values, handling outliers, normalization, and feature engineering. The goal of data pre-processing is to improve the quality and reliability of the data to improve the accuracy of the machine learning model.\n"
   ]
  },
  {
   "cell_type": "markdown",
   "id": "22982939",
   "metadata": {},
   "source": [
    "2. Describe quantitative and qualitative data in depth. Make a distinction between the two.\n",
    "Answer:Quantitative data refers to numerical data that can be measured and analyzed using mathematical and statistical methods. Examples include height, weight, income, and test scores. Qualitative data refers to non-numerical data that can be categorized based on characteristics or qualities. Examples include gender, occupation, color, and opinions. The key distinction between the two is that quantitative data is measured using numerical values, while qualitative data is descriptive and subjective."
   ]
  },
  {
   "cell_type": "markdown",
   "id": "d40773fd",
   "metadata": {},
   "source": [
    "3. Create a basic data collection that includes some sample records. Have at least one attribute from\n",
    "each of the machine learning data types.\n",
    "Answer: Numeric data: square footage of the house, number of bedrooms, number of bathrooms, age of the house, price of similar houses in the neighborhood.\n",
    "Categorical data: type of house (single-family, townhouse, apartment), location of the house (urban, suburban, rural), style of the house (colonial, ranch, contemporary).\n",
    "Text data: description of the house and its features (e.g. hardwood floors, granite countertops, fireplace).\n",
    "Image data: photographs of the house and its surroundings."
   ]
  },
  {
   "cell_type": "markdown",
   "id": "d66d613c",
   "metadata": {},
   "source": [
    "4. What are the various causes of machine learning data issues? What are the ramifications? Answer: The various causes of machine learning data issues include missing values, inconsistent data, outliers, errors, bias, and noisy data. These issues can cause inaccurate models, poor predictions, or incorrect insights. To avoid such consequences, it is crucial to clean and preprocess the data before feeding it into machine learning algorithms."
   ]
  },
  {
   "cell_type": "markdown",
   "id": "cda459cb",
   "metadata": {},
   "source": [
    "5. Demonstrate various approaches to categorical data exploration with appropriate examples.\n",
    "Answer: Frequency tables: Create a table showing the count or percentage of each category in the data set. For example, a frequency table for a survey asking people to select their favorite color might show how many people chose red, blue, green, etc.\n",
    "\n",
    "Bar charts: Use a bar chart to visualize the frequency table. Each category is represented by a bar, and the height of the bar corresponds to the frequency or percentage of that category.\n",
    "\n",
    "Pie charts: Use a pie chart to show the relative proportion of each category in the data set. Each category is represented by a slice of the pie, and the size of the slice corresponds to the proportion of that category."
   ]
  },
  {
   "cell_type": "markdown",
   "id": "3d136d5a",
   "metadata": {},
   "source": [
    "6. How would the learning activity be affected if certain variables have missing values? Having said\n",
    "that, what can be done about it? Answer: The learning activity can be negatively affected if certain variables have missing values, as it can lead to biased or incomplete models. To handle missing data, one can either delete the missing values or fill them in with estimated values using methods such as mean imputation, regression imputation, or multiple imputation. However, the choice of method depends on the amount of missing data and the nature of the variables."
   ]
  },
  {
   "cell_type": "markdown",
   "id": "234df733",
   "metadata": {},
   "source": [
    "7. Describe the various methods for dealing with missing data values in depth.\n",
    "Answer: Deletion: This method involves deleting the missing values from the dataset. It can be done in two ways: listwise deletion (removing entire rows with missing values) and pairwise deletion (removing only the missing values in a particular variable).\n",
    "\n",
    "Imputation: This method involves estimating missing values by substituting them with estimated values. There are several techniques for imputation, such as mean imputation, mode imputation, median imputation, regression imputation, and k-nearest neighbor imputation.\n",
    "\n",
    "Model-based methods: This method involves creating a model to estimate missing values based on the available data. Some examples of model-based methods are decision trees, regression models, and clustering models.\n",
    "\n",
    "Multiple imputation: This method involves creating multiple imputed datasets and analyzing them to obtain the final result. This technique takes into account the uncertainty associated with the missing data."
   ]
  },
  {
   "cell_type": "markdown",
   "id": "80707633",
   "metadata": {},
   "source": [
    "8. What are the various data pre-processing techniques? Explain dimensionality reduction and\n",
    "function selection in a few words. Answer: Data pre-processing techniques are used to prepare raw data for machine learning algorithms. They include data cleaning, normalization, transformation, and reduction.\n",
    "\n",
    "Dimensionality reduction refers to the process of reducing the number of variables in a dataset while preserving as much information as possible. It can be achieved through techniques such as principal component analysis (PCA) and linear discriminant analysis (LDA).\n",
    "\n",
    "Feature selection, also known as function selection, is the process of identifying and selecting the most relevant and informative features in a dataset. This can be done through various techniques, such as correlation analysis and information gain, to improve model accuracy and reduce overfitting."
   ]
  },
  {
   "cell_type": "markdown",
   "id": "2b6c625f",
   "metadata": {},
   "source": [
    "9i. What is the IQR? What criteria are used to assess it?\n",
    "\n",
    "ii. Describe the various components of a box plot in detail? When will the lower whisker\n",
    "surpass the upper whisker in length? How can box plots be used to identify outliers?\n",
    "Answer: i. The IQR stands for Interquartile Range, which is the distance between the 75th percentile (Q3) and the 25th percentile (Q1) of a dataset. It is used to measure the spread of a dataset and is a more robust measure of dispersion than the range. Outliers are typically identified using the IQR rule, which states that any observation more than 1.5 times the IQR beyond the quartiles is an outlier.\n",
    "\n",
    "ii. A box plot is a graphical representation of a dataset that shows the median, quartiles, range, and outliers of the data. The components of a box plot are:\n",
    "\n",
    "Minimum value (lower whisker)\n",
    "Lower quartile (Q1)\n",
    "Median (middle line)\n",
    "Upper quartile (Q3)\n",
    "Maximum value (upper whisker)\n",
    "Outliers (individual points outside the whiskers)\n",
    "The lower whisker will surpass the upper whisker in length when the upper quartile is close to the median and the lower quartile is far from the median. Box plots can be used to identify outliers by looking for individual points outside the whiskers, which are typically defined as 1.5 times the IQR beyond the quartiles."
   ]
  },
  {
   "cell_type": "markdown",
   "id": "242bae60",
   "metadata": {},
   "source": [
    "10. Make brief notes on any two of the following:\n",
    "\n",
    "1. Data collected at regular intervals\n",
    "\n",
    "2. The gap between the quartiles\n",
    "\n",
    "3. Use a cross-tab\n",
    "Data collected at regular intervals: This refers to data that is collected at fixed time intervals, such as daily, weekly, monthly, etc. This type of data is often used in time series analysis to identify trends, seasonality, and other patterns over time.\n",
    "\n",
    "The gap between the quartiles: The gap between the quartiles is a measure of the spread of a dataset. It is calculated by subtracting the first quartile (Q1) from the third quartile (Q3) and is often referred to as the interquartile range (IQR). The larger the gap between the quartiles, the more spread out the data is.\n",
    "\n",
    "Use a cross-tab: A cross-tab (short for cross-tabulation) is a statistical tool used to explore the relationship between two or more categorical variables. It involves creating a table that displays the frequency of occurrence of each combination of values of the variables being studied. Cross-tabs can be used to identify patterns and relationships in the data, such as the association between gender and occupation."
   ]
  },
  {
   "cell_type": "markdown",
   "id": "66a6b4fa",
   "metadata": {},
   "source": [
    "1. Make a comparison between:\n",
    "\n",
    "1. Data with nominal and ordinal values\n",
    "\n",
    "2. Histogram and box plot\n",
    "\n",
    "3. The average and median\n",
    "Answer:Comparison between data with nominal and ordinal values:\n",
    "\n",
    "Nominal data are categorical data without any order or ranking between the categories, such as colors, gender, etc. Ordinal data, on the other hand, are categorical data with a defined order or ranking between the categories, such as education level, satisfaction level, etc.\n",
    "Comparison between histogram and box plot:\n",
    "\n",
    "Histograms are used to display the distribution of continuous data by dividing the data into bins and plotting the frequency of data in each bin. Box plots, on the other hand, are used to display the distribution of data, including the median, quartiles, outliers, etc.\n",
    "Comparison between average and median:\n",
    "\n",
    "The average is the sum of all the data points divided by the total number of data points, whereas the median is the middle value of a dataset, dividing it into two equal halves. The average is sensitive to outliers, whereas the median is not."
   ]
  },
  {
   "cell_type": "code",
   "execution_count": null,
   "id": "4b8a2e13",
   "metadata": {},
   "outputs": [],
   "source": []
  }
 ],
 "metadata": {
  "kernelspec": {
   "display_name": "Python 3 (ipykernel)",
   "language": "python",
   "name": "python3"
  },
  "language_info": {
   "codemirror_mode": {
    "name": "ipython",
    "version": 3
   },
   "file_extension": ".py",
   "mimetype": "text/x-python",
   "name": "python",
   "nbconvert_exporter": "python",
   "pygments_lexer": "ipython3",
   "version": "3.9.12"
  }
 },
 "nbformat": 4,
 "nbformat_minor": 5
}
