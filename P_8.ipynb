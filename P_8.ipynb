{
 "cells": [
  {
   "cell_type": "markdown",
   "id": "eeb51329",
   "metadata": {},
   "source": [
    "1.\tWhat does a relative path refer?\n",
    "A relative path refers to the location of a file or directory relative to the current working directory.\n",
    "2.\tWhat does an absolute path start with your operating system?\n",
    "An absolute path starts with the root directory of the operating system, such as C:\\ or /.\n",
    "3.\tWhat do the functions os.getcwd() and os.chdir() do?\n",
    "os.getcwd() returns the current working directory, and os.chdir() changes the current working directory to the specified path.\n",
    "4.\tWhat are the . and .. folders?\n",
    "The \".\" folder refers to the current directory, and \"..\" refers to the parent directory.\n",
    "5.\tIn C:\\bacon\\eggs\\spam.txt, which part is the dir name, and which part is the base name?\n",
    "The directory name is \"C:\\bacon\\eggs\", and the base name is \"spam.txt\".\n",
    "6.\tWhat are the three “mode” arguments that can be passed to the open() function?\n",
    "The three \"mode\" arguments are \"r\" for reading, \"w\" for writing, and \"a\" for appending.\n",
    "7.\tWhat happens if an existing file is opened in write mode?\n",
    "If an existing file is opened in write mode, its contents are truncated, and the new data is written to the file.\n",
    "8.\tHow do you tell the difference between read() and readlines()?\n",
    "The read() method returns the entire contents of the file as a single string, while readlines() returns a list of strings, where each string represents a line in the file.\n",
    "9.\tWhat data structure does a shelf value resemble?\n",
    "A shelf value resembles a dictionary, where keys and values can be stored and retrieved.\n",
    "\n"
   ]
  },
  {
   "cell_type": "code",
   "execution_count": null,
   "id": "c5ea270c",
   "metadata": {},
   "outputs": [],
   "source": []
  }
 ],
 "metadata": {
  "kernelspec": {
   "display_name": "Python 3 (ipykernel)",
   "language": "python",
   "name": "python3"
  },
  "language_info": {
   "codemirror_mode": {
    "name": "ipython",
    "version": 3
   },
   "file_extension": ".py",
   "mimetype": "text/x-python",
   "name": "python",
   "nbconvert_exporter": "python",
   "pygments_lexer": "ipython3",
   "version": "3.9.12"
  }
 },
 "nbformat": 4,
 "nbformat_minor": 5
}
