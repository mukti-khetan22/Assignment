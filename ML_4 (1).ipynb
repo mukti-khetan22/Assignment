{
 "cells": [
  {
   "cell_type": "markdown",
   "id": "b7c5ee66",
   "metadata": {},
   "source": [
    "1. What are the key tasks involved in getting ready to work with machine learning modeling? Answer:The key tasks involved in getting ready to work with machine learning modeling include understanding the problem at hand, gathering and preparing the data, selecting appropriate features, choosing a suitable algorithm, training and testing the model, evaluating the performance, and tuning the model for better results."
   ]
  },
  {
   "cell_type": "markdown",
   "id": "d3a066fb",
   "metadata": {},
   "source": [
    "2. What are the different forms of data used in machine learning? Give a specific example for each of\n",
    "them. Answer: Structured data: Data that is organized and can be presented in a table, such as a database or spreadsheet. An example would be customer transaction records in a retail store.\n",
    "\n",
    "Unstructured data: Data that does not have a predefined structure, such as images, videos, and text documents. An example would be social media posts.\n",
    "\n",
    "Semi-structured data: Data that has some structure, but not as well-defined as structured data. An example would be XML files.\n",
    "\n",
    "Time series data: Data that is collected over time, such as stock prices or weather data.\n",
    "\n",
    "Graph data: Data that is represented in a graph, such as social network connections or transportation routes."
   ]
  },
  {
   "cell_type": "markdown",
   "id": "9638b501",
   "metadata": {},
   "source": [
    "3. Distinguish:\n",
    "\n",
    "1. Numeric vs. categorical attributes\n",
    "\n",
    "2. Feature selection vs. dimensionality reduction\n",
    "Answer: Numeric attributes are quantitative variables that have numerical values and can be measured, whereas categorical attributes are qualitative variables that have values that cannot be measured but can be classified into categories.\n",
    "\n",
    "Feature selection is the process of selecting the most relevant features from the dataset, whereas dimensionality reduction is the process of reducing the number of features in a dataset by transforming it into a lower-dimensional space while retaining as much information as possible."
   ]
  },
  {
   "cell_type": "markdown",
   "id": "b5cad82a",
   "metadata": {},
   "source": [
    "4. Make quick notes on any two of the following:\n",
    "\n",
    "1. The histogram\n",
    "\n",
    "2. Use a scatter plot\n",
    "\n",
    "3.PCA (Personal Computer Aid)\n",
    "Answer:The histogram: A graphical representation of data distribution, where the x-axis represents the range of values, and the y-axis represents the number of occurrences in that range.\n",
    "\n",
    "Scatter plot: A type of plot that uses Cartesian coordinates to display the values of two variables, where each point represents a single observation.\n",
    "\n",
    "PCA (Principal Component Analysis): A statistical technique for reducing the dimensionality of a dataset while retaining as much of the variation in the data as possible."
   ]
  },
  {
   "cell_type": "markdown",
   "id": "93fa954c",
   "metadata": {},
   "source": [
    "5. Why is it necessary to investigate data? Is there a discrepancy in how qualitative and quantitative\n",
    "data are explored? Answer: It is essential to investigate data to gain insights, identify patterns, and recognize trends to make informed decisions. There is a difference in how qualitative and quantitative data are explored, as qualitative data is usually explored through interpretation and analysis of themes, while quantitative data is analyzed using statistical methods."
   ]
  },
  {
   "cell_type": "markdown",
   "id": "6b4ccca5",
   "metadata": {},
   "source": [
    "6. What are the various histogram shapes? What exactly are ‘bins'?There are several histogram shapes, including symmetric, skewed, bimodal, and uniform. Bins are the intervals into which the data range is split and displayed as bars in a histogram."
   ]
  },
  {
   "cell_type": "markdown",
   "id": "97ebec95",
   "metadata": {},
   "source": [
    "7. How do we deal with data outliers? Answer: Dealing with data outliers depends on the specific scenario and the goals of the analysis. Some common approaches include removing outliers, transforming the data, using robust statistical methods, or treating the outliers as a separate group. It's important to carefully consider the reasons for the outliers and their potential impact on the analysis before deciding on an approach."
   ]
  },
  {
   "cell_type": "markdown",
   "id": "6715af2a",
   "metadata": {},
   "source": [
    "8. What are the various central inclination measures? Why does mean vary too much from median in\n",
    "certain data sets? Answer: The various central inclination measures are mean, median, and mode. The mean can vary too much from the median in certain datasets because it is sensitive to outliers, while the median is more robust to them."
   ]
  },
  {
   "cell_type": "markdown",
   "id": "5fd94b73",
   "metadata": {},
   "source": [
    "9. Describe how a scatter plot can be used to investigate bivariate relationships. Is it possible to find\n",
    "outliers using a scatter plot? Answer: A scatter plot is a visual representation of bivariate relationships between two continuous variables, and it can help identify any potential patterns, trends, or relationships between the variables. Outliers can also be identified using a scatter plot if there are any data points that are far from the general pattern or trend of the data points."
   ]
  },
  {
   "cell_type": "markdown",
   "id": "ae210635",
   "metadata": {},
   "source": [
    "10. Describe how cross-tabs can be used to figure out how two variables are related.Answer: Cross-tabulation, or contingency tables, is a technique used to examine the relationship between two categorical variables. It involves the creation of a table that displays the distribution of one variable relative to the other variable, allowing for the identification of any associations or patterns between the two. This method can be used to assess the strength and direction of the relationship between the two variables, as well as to identify any discrepancies or inconsistencies in the data."
   ]
  },
  {
   "cell_type": "code",
   "execution_count": null,
   "id": "14786726",
   "metadata": {},
   "outputs": [],
   "source": []
  }
 ],
 "metadata": {
  "kernelspec": {
   "display_name": "Python 3 (ipykernel)",
   "language": "python",
   "name": "python3"
  },
  "language_info": {
   "codemirror_mode": {
    "name": "ipython",
    "version": 3
   },
   "file_extension": ".py",
   "mimetype": "text/x-python",
   "name": "python",
   "nbconvert_exporter": "python",
   "pygments_lexer": "ipython3",
   "version": "3.9.12"
  }
 },
 "nbformat": 4,
 "nbformat_minor": 5
}
