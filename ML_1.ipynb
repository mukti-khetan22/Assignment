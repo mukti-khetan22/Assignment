{
 "cells": [
  {
   "cell_type": "markdown",
   "id": "bab666a2",
   "metadata": {},
   "source": [
    "1. What does one mean by the term \"machine learning&quot\"?\n",
    "Answer: Machine learning is a subfield of artificial intelligence that gives computers the ability to learn without explicitly being programmed."
   ]
  },
  {
   "cell_type": "markdown",
   "id": "d78a922f",
   "metadata": {},
   "source": [
    "2.Can you think of 4 distinct types of issues where it shines? Answer: Machine learning algorithms have had good results on problems such has spam detection in email, cancer diagnosis, fraudulent credit card transactions, and automatically driving vehicles."
   ]
  },
  {
   "cell_type": "markdown",
   "id": "56029a26",
   "metadata": {},
   "source": [
    "3.What is a labeled training set, and how does it work? Answer: Data labeling (or data annotation) is the process of adding target attributes to training data and labeling them so that a machine learning model can learn what predictions it is expected to make. This process is one of the stages in preparing data for supervised machine learning."
   ]
  },
  {
   "cell_type": "markdown",
   "id": "7da20e1b",
   "metadata": {},
   "source": [
    "4. What are the two most important tasks that are supervised?\n",
    "The two most common supervised tasks are regression and classification. Common unsupervised tasks include clustering, visualization, dimensionality reduction, and association rule learning."
   ]
  },
  {
   "cell_type": "markdown",
   "id": "6b5ab166",
   "metadata": {},
   "source": [
    "5.Can you think of four examples of unsupervised tasks? Answer: Four common unsupervised tasks inclused clustering, visualization, dimensionality reduction , and association rule learning"
   ]
  },
  {
   "cell_type": "markdown",
   "id": "72a6883c",
   "metadata": {},
   "source": [
    "6.State the machine learning model that would be best to make a robot walk through various\n",
    "unfamiliar terrains? Answer:Precise machine learning processes are being used to train robots and improve accuracy.\n",
    "    "
   ]
  },
  {
   "cell_type": "markdown",
   "id": "655ae4e3",
   "metadata": {},
   "source": [
    "7.Which algorithm will you use to divide your customers into different groups? Answer: We will use the k-means clustering algorithm to derive the optimum number of clusters and understand the underlying customer segments based on the data provided."
   ]
  },
  {
   "cell_type": "markdown",
   "id": "be6339df",
   "metadata": {},
   "source": [
    "8.Will you consider the problem of spam detection to be a supervised or unsupervised learning\n",
    "problem? Answer: Spam detection is a supervised machine learning problem\n",
    "    "
   ]
  },
  {
   "cell_type": "markdown",
   "id": "48265994",
   "metadata": {},
   "source": [
    "9.What is the concept of an online learning system? Answer: Online learning refers to instruction that is delivered electronically through various multimedia and Internet platforms and applications. "
   ]
  },
  {
   "cell_type": "markdown",
   "id": "215908f9",
   "metadata": {},
   "source": [
    "10.What is out-of-core learning, and how does it differ from core learning? Answer: Out-of-core learning refers to the machine learning algorithms working with data that cannot fit into a single machine's memory but can easily fit into some data storage, such as a local hard disk or web repository"
   ]
  },
  {
   "cell_type": "markdown",
   "id": "e8b7858b",
   "metadata": {},
   "source": [
    "11.What kind of learning algorithm makes predictions using a similarity measure? Answer:Learning algorithm that relies on a similarity measure to make predictions is instance-based algorithm"
   ]
  },
  {
   "cell_type": "markdown",
   "id": "e252287c",
   "metadata": {},
   "source": [
    "12.What is the difference between a model parameter and a hyperparameter in a learning\n",
    "algorithm? Answer: model parameters are estimated from data automatically and model hyperparameters are set manually and are used in processes to help estimate model parameters"
   ]
  },
  {
   "cell_type": "markdown",
   "id": "a43d8dff",
   "metadata": {},
   "source": [
    "13.What are the criteria that model-based learning algorithms look for? What is the most popular\n",
    "method they use to achieve success? What method do they use to make predictions? The goal for a model-based algorithm is to be able to generalize to new examples. To do this, model based algorithms search for optimal values for the model's parameters, often called theta . This searching, or \"learning\", is what machine learning is all about. Model based learning algorithm search for the optimal value of parameters in a model that will give the best results for the new instances. We often use a cost function or similar to determine what the parameter value has to be in order to minimize the function."
   ]
  },
  {
   "cell_type": "markdown",
   "id": "20181ca1",
   "metadata": {},
   "source": [
    "14.Can you name four of the most important Machine Learning challenges? Answer: Four main challenges in Machine Learning include overfitting the data (using a model too complicated), underfitting the data (using a simple model), lacking in data and nonrepresentative data. "
   ]
  },
  {
   "cell_type": "markdown",
   "id": "9458f583",
   "metadata": {},
   "source": [
    "15.What happens if the model performs well on the training data but fails to generalize the results\n",
    "to new situations? Can you think of three different options? Answer: Your model is overfitting your training data when you see that the model performs well on the training data but does not perform well on the evaluation data. This is because the model is memorizing the data it has seen and is unable to generalize to unseen examples. Such as, if it performs well with the training data, but does not perform well with the test dataset, then it is estimated that the model may be overfitted.\n",
    "The problem of model performance mismatch that may occur when evaluating machine learning algorithms.\n",
    "The causes of overfitting, under-representative data samples, and stochastic algorithms.\n",
    "Ways to harden your test harness to avoid the problem in the first place"
   ]
  },
  {
   "cell_type": "markdown",
   "id": "06074c70",
   "metadata": {},
   "source": [
    "16.What exactly is a test set, and why would you need one? Answer: A test set is a portion of a data set used in data mining to assess the likely future performance of a single prediction or classification model that has been selected from among competing models, based on its performance with the validation set."
   ]
  },
  {
   "cell_type": "markdown",
   "id": "5b0e9ce8",
   "metadata": {},
   "source": [
    "17.What is a validation set's purpose? Answer: A validation set is a set of data used to train artificial intelligence (AI) with the goal of finding and optimizing the best model to solve a given problem."
   ]
  },
  {
   "cell_type": "markdown",
   "id": "e8cd05f9",
   "metadata": {},
   "source": [
    "18.What precisely is the train-dev kit, when will you need it, how do you put it to use? Answer:The train-dev kit is a tool used in machine learning to help with the development of models. It is typically used when there is a large dataset that needs to be split into separate training and development (or validation) sets. The train-dev kit is used to create these sets, with the training set used to build the model and the development set used to evaluate it."
   ]
  },
  {
   "cell_type": "markdown",
   "id": "527147fb",
   "metadata": {},
   "source": [
    "19.What could go wrong if you use the test set to tune hyperparameters? Answer:If you use the test set to tune hyperparameters, it can result in overfitting and poor generalization performance of your machine learning model."
   ]
  },
  {
   "cell_type": "markdown",
   "id": "2bbf1ca9",
   "metadata": {},
   "source": []
  }
 ],
 "metadata": {
  "kernelspec": {
   "display_name": "Python 3 (ipykernel)",
   "language": "python",
   "name": "python3"
  },
  "language_info": {
   "codemirror_mode": {
    "name": "ipython",
    "version": 3
   },
   "file_extension": ".py",
   "mimetype": "text/x-python",
   "name": "python",
   "nbconvert_exporter": "python",
   "pygments_lexer": "ipython3",
   "version": "3.9.12"
  }
 },
 "nbformat": 4,
 "nbformat_minor": 5
}
