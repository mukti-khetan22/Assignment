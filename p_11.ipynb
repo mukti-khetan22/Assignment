{
 "cells": [
  {
   "cell_type": "markdown",
   "id": "0a843a87",
   "metadata": {},
   "source": [
    "1.\tWhat assert statement can be used to check if the variable spam is a negative integer?\n",
    "\n",
    "Answer: assert spam >= 0, \"spam variable should not be negative\"\n",
    "\n",
    "2.\tWrite an assert statement to check if eggs and bacon contain the same string even if their cases are different.\n",
    "\n",
    "Answer: assert eggs.lower() != bacon.lower(), \"eggs and bacon should not be the same string, regardless of case\"\n",
    "\n",
    "3.\tHow can you create an assert statement that always fails?\n",
    "\n",
    "Answer: assert False, \"This assertion always fails\"\n",
    "\n",
    "4.\tWhat two lines are necessary to call logging.debug() in your program?\n",
    "\n",
    "Answer: import logging and logging.debug('Debug message')\n",
    "\n",
    "5.\tHow can you get logging.debug() to write messages to a file named programLog.txt?\n",
    "\n",
    " Answer: logging.basicConfig(filename='programLog.txt', level=logging.DEBUG)\n",
    "\n",
    "6.\tWhat are the five levels of logging?\n",
    "\n",
    " Answer: DEBUG, INFO, WARNING, ERROR, CRITICAL\n",
    "\n",
    "7.\tHow can you disable all logging messages in your program?\n",
    "\n",
    " Answer: logging.disable(logging.CRITICAL)\n",
    "\n",
    "8.\tWhy is using logging messages better than using print() to display messages?\n",
    "\n",
    " Answer: Logging messages provide more information, can be controlled with different levels of severity, and can be directed to different destinations like a file or email.\n",
    "\n",
    "9.\tWhat are the differences between the Step Over, Step In, and Step Out buttons in the debugger?\n",
    "\n",
    "  Answer: Step Over runs the current line and moves to the next line, Step In moves to the next line but stops at any function calls in that line, and Step Out runs until the current function returns.\n",
    "\n",
    "10.\tAfter clicking Continue, when will the debugger stop?\n",
    "\n",
    "Answer: The debugger will stop at the next breakpoint or at the end of the program.\n",
    "\n",
    "11.\tWhat is a breakpoint?\n",
    "\n",
    "  Answer: A breakpoint is a designated point in your code where the debugger will stop execution and allow you to inspect the program's state.\n",
    "\n"
   ]
  },
  {
   "cell_type": "code",
   "execution_count": null,
   "id": "da75b91f",
   "metadata": {},
   "outputs": [],
   "source": []
  }
 ],
 "metadata": {
  "kernelspec": {
   "display_name": "Python 3 (ipykernel)",
   "language": "python",
   "name": "python3"
  },
  "language_info": {
   "codemirror_mode": {
    "name": "ipython",
    "version": 3
   },
   "file_extension": ".py",
   "mimetype": "text/x-python",
   "name": "python",
   "nbconvert_exporter": "python",
   "pygments_lexer": "ipython3",
   "version": "3.9.12"
  }
 },
 "nbformat": 4,
 "nbformat_minor": 5
}
