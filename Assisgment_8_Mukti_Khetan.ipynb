{
 "cells": [
  {
   "cell_type": "markdown",
   "id": "30793a26",
   "metadata": {},
   "source": [
    "1. Is the Python Standard Library included with PyInputPlus? Answer: yInputPlus is not a part of the Python Standard Library, we must install it separately using Pip."
   ]
  },
  {
   "cell_type": "markdown",
   "id": "5d5b9841",
   "metadata": {},
   "source": [
    "2. Why is PyInputPlus commonly imported with import pyinputplus as pypi? Answer: You can import the module with import pyinputplus as pyip so that you can enter a shorter name when calling the module’s functions"
   ]
  },
  {
   "cell_type": "markdown",
   "id": "7555a396",
   "metadata": {},
   "source": [
    "3. How do you distinguish between inputInt() and inputFloat()? Answer: inputInt() expects an integer value as input but inputFloat() expects a float value i.e number containing a decimal"
   ]
  },
  {
   "cell_type": "markdown",
   "id": "a871565a",
   "metadata": {},
   "source": [
    "4. Using PyInputPlus, how do you ensure that the user enters a whole number between 0 and 99?  Answer: pyip.inputint(min=0, max=99)"
   ]
  },
  {
   "cell_type": "markdown",
   "id": "a7a899ea",
   "metadata": {},
   "source": [
    "5. What is transferred to the keyword arguments allowRegexes and blockRegexes? Answer explicitly allowed or denied"
   ]
  },
  {
   "cell_type": "markdown",
   "id": "97c54783",
   "metadata": {},
   "source": [
    "6. If a blank input is entered three times, what does inputStr(limit=3) do? Answer: It will raise RetryLimitException."
   ]
  },
  {
   "cell_type": "markdown",
   "id": "4af376f0",
   "metadata": {},
   "source": [
    "7. If blank input is entered three times, what does inputStr(limit=3, default='hello') do? Answer: The function returns the value 'hello'"
   ]
  }
 ],
 "metadata": {
  "kernelspec": {
   "display_name": "Python 3 (ipykernel)",
   "language": "python",
   "name": "python3"
  },
  "language_info": {
   "codemirror_mode": {
    "name": "ipython",
    "version": 3
   },
   "file_extension": ".py",
   "mimetype": "text/x-python",
   "name": "python",
   "nbconvert_exporter": "python",
   "pygments_lexer": "ipython3",
   "version": "3.9.12"
  }
 },
 "nbformat": 4,
 "nbformat_minor": 5
}
