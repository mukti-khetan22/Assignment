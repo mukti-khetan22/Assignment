{
 "cells": [
  {
   "cell_type": "markdown",
   "id": "646790e8",
   "metadata": {},
   "source": [
    "1.\tHow many seconds are in an hour? \n",
    "\n",
    "Answer: There are 3600 seconds in an hour (60 seconds per minute x 60 minutes per hour = 3600 seconds per hour).\n",
    "\n",
    "2.\tAssign the result from the previous task (seconds in an hour) to a variable called seconds_per_hour.\n",
    "\n",
    "Answer: seconds_per_hour = 3600\n",
    "\n",
    "3.\tHow many seconds do you think there are in a day? Make use of the variables seconds per hour and minutes per hour. \n",
    "\n",
    "Answer: There are 86400 seconds in a day (60 minutes per hour x 24 hours per day x 60 seconds per minute = 86400 seconds per day).\n",
    "\n",
    "4.\tCalculate seconds per day again, but this time save the result in a variable called seconds_per_day. \n",
    "\n",
    "Answer: seconds_per_day = 86400\n",
    "\n",
    "5.\tDivide seconds_per_day by seconds_per_hour. Use floating-point (/) division. \n",
    "\n",
    "Answer: The result is 24.0, which means there are 24 hours in a day.\n",
    "\n",
    "6.\tDivide seconds_per_day by seconds_per_hour, using integer (//) division. Did this number agree with the floating-point value from the previous question, aside from the final .0? \n",
    "\n",
    "Answer: The result is 24, which agrees with the floating-point value of 24.0. The only difference is that the integer division truncates any decimal places.\n",
    "\n",
    "7. Write a generator, genPrimes, that returns the sequence of prime numbers on successive calls to\n",
    "its next() method: 2, 3, 5, 7, 11, ...\n",
    "Answer:\n",
    "    \n",
    "    "
   ]
  },
  {
   "cell_type": "code",
   "execution_count": 1,
   "id": "d5d093c0",
   "metadata": {},
   "outputs": [],
   "source": [
    "def genPrimes():\n",
    "    primes = []   # primes generated so far\n",
    "    last = 1      # last number tried\n",
    "    while True:\n",
    "        last += 1\n",
    "        for p in primes:\n",
    "            if last % p == 0:\n",
    "                break\n",
    "        else:\n",
    "            primes.append(last)\n",
    "            yield last\n",
    "\n",
    "p = genPrimes()"
   ]
  },
  {
   "cell_type": "code",
   "execution_count": null,
   "id": "d5da5dc5",
   "metadata": {},
   "outputs": [],
   "source": []
  }
 ],
 "metadata": {
  "kernelspec": {
   "display_name": "Python 3 (ipykernel)",
   "language": "python",
   "name": "python3"
  },
  "language_info": {
   "codemirror_mode": {
    "name": "ipython",
    "version": 3
   },
   "file_extension": ".py",
   "mimetype": "text/x-python",
   "name": "python",
   "nbconvert_exporter": "python",
   "pygments_lexer": "ipython3",
   "version": "3.9.12"
  }
 },
 "nbformat": 4,
 "nbformat_minor": 5
}
