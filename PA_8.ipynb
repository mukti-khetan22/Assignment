{
 "cells": [
  {
   "cell_type": "markdown",
   "id": "f2a2e344",
   "metadata": {},
   "source": [
    "1. Program to Add Two Matrices:"
   ]
  },
  {
   "cell_type": "code",
   "execution_count": 1,
   "id": "ec370785",
   "metadata": {},
   "outputs": [
    {
     "name": "stdout",
     "output_type": "stream",
     "text": [
      "[[10, 10, 10], [10, 10, 10], [10, 10, 10]]\n"
     ]
    }
   ],
   "source": [
    "def add_matrices(matrix1, matrix2):\n",
    "    result = []\n",
    "    for i in range(len(matrix1)):\n",
    "        row = []\n",
    "        for j in range(len(matrix1[0])):\n",
    "            row.append(matrix1[i][j] + matrix2[i][j])\n",
    "        result.append(row)\n",
    "    return result\n",
    "\n",
    "# Example usage\n",
    "matrix1 = [[1, 2, 3], [4, 5, 6], [7, 8, 9]]\n",
    "matrix2 = [[9, 8, 7], [6, 5, 4], [3, 2, 1]]\n",
    "result = add_matrices(matrix1, matrix2)\n",
    "print(result)"
   ]
  },
  {
   "cell_type": "markdown",
   "id": "9e60cd2c",
   "metadata": {},
   "source": [
    "Program to Multiply Two Matrices:"
   ]
  },
  {
   "cell_type": "code",
   "execution_count": 3,
   "id": "d1df4f60",
   "metadata": {},
   "outputs": [
    {
     "name": "stdout",
     "output_type": "stream",
     "text": [
      "[[19, 22], [43, 50]]\n"
     ]
    }
   ],
   "source": [
    "def multiply_matrices(matrix1, matrix2):\n",
    "    result = []\n",
    "    for i in range(len(matrix1)):\n",
    "        row = []\n",
    "        for j in range(len(matrix2[0])):\n",
    "            sum = 0\n",
    "            for k in range(len(matrix2)):\n",
    "                sum += matrix1[i][k] * matrix2[k][j]\n",
    "            row.append(sum)\n",
    "        result.append(row)\n",
    "    return result\n",
    "\n",
    "# Example usage\n",
    "matrix1 = [[1, 2], [3, 4]]\n",
    "matrix2 = [[5, 6], [7, 8]]\n",
    "result = multiply_matrices(matrix1, matrix2)\n",
    "print(result)\n",
    "\n"
   ]
  },
  {
   "cell_type": "markdown",
   "id": "26201aaa",
   "metadata": {},
   "source": [
    "3. Trogram to Transpose a Matrix:"
   ]
  },
  {
   "cell_type": "code",
   "execution_count": 4,
   "id": "49f43841",
   "metadata": {},
   "outputs": [],
   "source": [
    "def transpose_matrix(matrix):\n",
    "    result = []\n",
    "    for j in range(len(matrix[0])):\n",
    "        row = []\n",
    "        for i in range(len(matrix)):\n",
    "            row.append(matrix[i][j])\n",
    "        result.append(row)\n",
    "    return result"
   ]
  },
  {
   "cell_type": "code",
   "execution_count": 5,
   "id": "4dd8f0a8",
   "metadata": {},
   "outputs": [
    {
     "name": "stdout",
     "output_type": "stream",
     "text": [
      "[[1, 4], [2, 5], [3, 6]]\n"
     ]
    }
   ],
   "source": [
    "# Example usage\n",
    "matrix = [[1, 2, 3], [4, 5, 6]]\n",
    "result = transpose_matrix(matrix)\n",
    "print(result)"
   ]
  },
  {
   "cell_type": "markdown",
   "id": "27a87007",
   "metadata": {},
   "source": [
    "4. Program to Sort Words in Alphabetic Order:"
   ]
  },
  {
   "cell_type": "code",
   "execution_count": 6,
   "id": "e695837f",
   "metadata": {},
   "outputs": [
    {
     "name": "stdout",
     "output_type": "stream",
     "text": [
      "This a is sample sentence\n"
     ]
    }
   ],
   "source": [
    "def sort_words_alphabetically(sentence):\n",
    "    words = sentence.split()\n",
    "    words.sort()\n",
    "    return ' '.join(words)\n",
    "\n",
    "# Example usage\n",
    "sentence = \"This is a sample sentence\"\n",
    "result = sort_words_alphabetically(sentence)\n",
    "print(result)"
   ]
  },
  {
   "cell_type": "markdown",
   "id": "18850673",
   "metadata": {},
   "source": [
    "Program to Remove Punctuation From a String:"
   ]
  },
  {
   "cell_type": "code",
   "execution_count": 8,
   "id": "a75b22e0",
   "metadata": {},
   "outputs": [],
   "source": [
    "import string\n",
    "\n"
   ]
  },
  {
   "cell_type": "code",
   "execution_count": 9,
   "id": "94b61a96",
   "metadata": {},
   "outputs": [],
   "source": [
    "def remove_punctuation(string):\n",
    "    translator = str.maketrans('', '', string.punctuation)\n",
    "    return string.translate(translator)\n"
   ]
  },
  {
   "cell_type": "code",
   "execution_count": null,
   "id": "b4638c6e",
   "metadata": {},
   "outputs": [],
   "source": []
  }
 ],
 "metadata": {
  "kernelspec": {
   "display_name": "Python 3 (ipykernel)",
   "language": "python",
   "name": "python3"
  },
  "language_info": {
   "codemirror_mode": {
    "name": "ipython",
    "version": 3
   },
   "file_extension": ".py",
   "mimetype": "text/x-python",
   "name": "python",
   "nbconvert_exporter": "python",
   "pygments_lexer": "ipython3",
   "version": "3.9.12"
  }
 },
 "nbformat": 4,
 "nbformat_minor": 5
}
