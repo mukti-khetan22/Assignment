{
 "cells": [
  {
   "cell_type": "raw",
   "id": "55fd1066",
   "metadata": {},
   "source": [
    "1.What are the two values of the Boolean data type? How do you write them?\n",
    "Answer: A variable of the primitive data type boolean can have two values: true and false (Boolean literals). Booleans represent one of two values: True or False ."
   ]
  },
  {
   "cell_type": "raw",
   "id": "497c7c15",
   "metadata": {},
   "source": [
    "2. What are the three different types of Boolean operators?\n",
    "Answer: These operators are and , or , and not."
   ]
  },
  {
   "cell_type": "raw",
   "id": "e7090702",
   "metadata": {},
   "source": [
    "3. Make a list of each Boolean operator truth tables (i.e. every possible combination of Boolean\n",
    "values for the operator and what it evaluate )."
   ]
  },
  {
   "cell_type": "raw",
   "id": "479d5f8a",
   "metadata": {},
   "source": [
    "Answer: Truth Tables\n",
    "\n",
    "\n",
    "If: A and B\n",
    "\n",
    "Then: C\n",
    "\n",
    "A\tB\tC\n",
    "1\t1\t1\n",
    "1\t0\t0\n",
    "0\t1\t0\n",
    "0\t0\t0\n",
    "If: A or B\n",
    "\n",
    "Then: C\n",
    "\n",
    "Truth table:\n",
    "\n",
    "A\tB\tC\n",
    "1\t1\t1\n",
    "1\t0\t1\n",
    "0\t1\t1\n",
    "0\t0\t0\n",
    "If: (A or B) and C\n",
    "\n",
    "Then: D\n",
    "\n",
    "\n",
    "A\tB\tC\tA OR B\tD\n",
    "1\t1\t1\t1\t1\n",
    "1\t1\t0\t1\t0\n",
    "1\t0\t1\t1\t1\n",
    "1\t0\t0\t1\t0\n",
    "0\t1\t1\t1\t1\n",
    "0\t1\t0\t1\t0\n",
    "0\t0\t1\t0\t0\n",
    "0\t0\t0\t0\t0\n",
    " \t \t \t \t "
   ]
  },
  {
   "cell_type": "raw",
   "id": "f5270cbf",
   "metadata": {},
   "source": [
    "4. What are the values of the following expressions?\n",
    "(5 > 4) and (3 == 5)\n",
    "not (5 > 4)\n",
    "(5 > 4) or (3 == 5)\n",
    "not ((5 > 4) or (3 == 5))\n",
    "(True and True) and (True == False)\n",
    "(not False) or (not True)"
   ]
  },
  {
   "cell_type": "code",
   "execution_count": null,
   "id": "0eb9e97a",
   "metadata": {},
   "outputs": [],
   "source": [
    "(5 > 4) and (3 == 5)"
   ]
  },
  {
   "cell_type": "code",
   "execution_count": 2,
   "id": "01d338f2",
   "metadata": {},
   "outputs": [
    {
     "data": {
      "text/plain": [
       "False"
      ]
     },
     "execution_count": 2,
     "metadata": {},
     "output_type": "execute_result"
    }
   ],
   "source": [
    "not (5 > 4)"
   ]
  },
  {
   "cell_type": "code",
   "execution_count": 3,
   "id": "8b10d115",
   "metadata": {},
   "outputs": [
    {
     "data": {
      "text/plain": [
       "True"
      ]
     },
     "execution_count": 3,
     "metadata": {},
     "output_type": "execute_result"
    }
   ],
   "source": [
    "(5 > 4) or (3 == 5)"
   ]
  },
  {
   "cell_type": "code",
   "execution_count": 4,
   "id": "b9b64f79",
   "metadata": {},
   "outputs": [
    {
     "data": {
      "text/plain": [
       "False"
      ]
     },
     "execution_count": 4,
     "metadata": {},
     "output_type": "execute_result"
    }
   ],
   "source": [
    "not ((5 > 4) or (3 == 5))"
   ]
  },
  {
   "cell_type": "code",
   "execution_count": 5,
   "id": "2b3ab7ef",
   "metadata": {},
   "outputs": [
    {
     "data": {
      "text/plain": [
       "False"
      ]
     },
     "execution_count": 5,
     "metadata": {},
     "output_type": "execute_result"
    }
   ],
   "source": [
    "(True and True) and (True == False)"
   ]
  },
  {
   "cell_type": "code",
   "execution_count": 6,
   "id": "d511e5d5",
   "metadata": {},
   "outputs": [
    {
     "data": {
      "text/plain": [
       "True"
      ]
     },
     "execution_count": 6,
     "metadata": {},
     "output_type": "execute_result"
    }
   ],
   "source": [
    "(not False) or (not True)"
   ]
  },
  {
   "cell_type": "raw",
   "id": "736e29a5",
   "metadata": {},
   "source": [
    "5. What are the six comparison operators?\n",
    "Answer:  less than, python greater than, Less Than or Equal To, Equal to or greater than, Python Equal To and Python Not Equal Operator."
   ]
  },
  {
   "cell_type": "raw",
   "id": "ee67e520",
   "metadata": {},
   "source": [
    "6. How do you tell the difference between the equal to and assignment operators?Describe a\n",
    "condition and when you would use one.\n",
    "Answer: The '=' is the assignment operator, which assigns the value at the right hand side to the variable at the left hand side. Eg. x=4, here the value 4 is assigned to 'x'. On the other hand, '==' is the relational operator which is used to check whether the value on both the sides are equal or not."
   ]
  },
  {
   "cell_type": "raw",
   "id": "8f5563d4",
   "metadata": {},
   "source": [
    "7. Identify the three blocks in this code:spam = 0\n",
    "if spam == 10:\n",
    "print(spam;)\n",
    "if spam > 5:\n",
    "print('bacon)\n",
    "else:\n",
    "print('ham')\n",
    "print('spam')\n",
    "print('spam')\n",
    "Answer: The three blocks are everything inside the if statement and the lines print('bacon') and print('ham').\n",
    "\n",
    "print('eggs')\n",
    "if spam > 5:\n",
    "    print('bacon')\n",
    "else:\n",
    "    print('ham')\n",
    "print('spam')\n"
   ]
  },
  {
   "cell_type": "raw",
   "id": "2b9bc26d",
   "metadata": {},
   "source": [
    "8. Write code that prints Hello if 1 is stored in spam, prints Howdy if 2 is stored in spam, and prints\n",
    "Greetings! if anything else is stored in spam."
   ]
  },
  {
   "cell_type": "code",
   "execution_count": null,
   "id": "cc6339af",
   "metadata": {},
   "outputs": [],
   "source": [
    "spam = input()\n",
    "\n",
    "if spam == 1:\n",
    "    print('Hello')\n",
    "elif spam == 2:\n",
    "    print('Howdy')\n",
    "else:\n",
    "    print('Greetings!')"
   ]
  },
  {
   "cell_type": "raw",
   "id": "8036cd2f",
   "metadata": {},
   "source": [
    "9.If your programme is stuck in an endless loop, what keys you’ll press?\n",
    "Answer: CTRL + C"
   ]
  },
  {
   "cell_type": "raw",
   "id": "c50e0961",
   "metadata": {},
   "source": [
    "10. How can you tell the difference between break and continue?\n",
    "Answer: How can you tell the difference between break and continue Python?\n",
    "Break statement will end up in the innermost loop if it is used within a nested loop. While using the continue statement the loops do not terminate but continuously go on with the next iteration"
   ]
  },
  {
   "cell_type": "raw",
   "id": "2b2a4588",
   "metadata": {},
   "source": [
    "11. In a for loop, what is the difference between range(10), range(0, 10), and range(0, 10, 1)?\n",
    "Answer: range(start, stop, step)\n",
    "\n",
    "They all do the same thing. The range(10) call ranges from 0 up to (but not including) 10, range(0,10) explicitly tells the loop to start at 0 , and range (0,10,1) explicitly tells the loop to increase the variable by 1 on each iteration."
   ]
  },
  {
   "cell_type": "raw",
   "id": "d660c663",
   "metadata": {},
   "source": [
    "12. Write a short program that prints the numbers 1 to 10 using a for loop. Then write an equivalent\n",
    "program that prints the numbers 1 to 10 using a while loop."
   ]
  },
  {
   "cell_type": "code",
   "execution_count": null,
   "id": "c6265765",
   "metadata": {},
   "outputs": [],
   "source": [
    "for i in range(1, 11):\n",
    "    print(i)"
   ]
  },
  {
   "cell_type": "code",
   "execution_count": null,
   "id": "5cae96ad",
   "metadata": {},
   "outputs": [],
   "source": [
    "i = 1\n",
    "while(i<=10):\n",
    "    print(i)\n",
    "    i + 1"
   ]
  },
  {
   "cell_type": "raw",
   "id": "955a5944",
   "metadata": {},
   "source": [
    "13. If you had a function named bacon() inside a module named spam, how would you call it after\n",
    "importing spam?\n",
    "Answer: spam. bacon()."
   ]
  }
 ],
 "metadata": {
  "kernelspec": {
   "display_name": "Python 3 (ipykernel)",
   "language": "python",
   "name": "python3"
  },
  "language_info": {
   "codemirror_mode": {
    "name": "ipython",
    "version": 3
   },
   "file_extension": ".py",
   "mimetype": "text/x-python",
   "name": "python",
   "nbconvert_exporter": "python",
   "pygments_lexer": "ipython3",
   "version": "3.9.12"
  }
 },
 "nbformat": 4,
 "nbformat_minor": 5
}
