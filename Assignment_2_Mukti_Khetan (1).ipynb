{
 "cells": [
  {
   "cell_type": "raw",
   "id": "c6e1a908",
   "metadata": {},
   "source": [
    "1.What are the two values of the Boolean data type? How do you write them?\n",
    "Answer: A variable of the primitive data type boolean can have two values: true and false (Boolean literals). Booleans represent one of two values: True or False ."
   ]
  },
  {
   "cell_type": "raw",
   "id": "fc91a45f",
   "metadata": {},
   "source": [
    "2. What are the three different types of Boolean operators?\n",
    "Answer: These operators are and , or , and not."
   ]
  },
  {
   "cell_type": "raw",
   "id": "f8e3b54c",
   "metadata": {},
   "source": [
    "3. Make a list of each Boolean operator truth tables (i.e. every possible combination of Boolean\n",
    "values for the operator and what it evaluate )."
   ]
  },
  {
   "cell_type": "raw",
   "id": "779a4019",
   "metadata": {},
   "source": [
    "Answer: Truth Tables\n",
    "\n",
    "\n",
    "If: A and B\n",
    "\n",
    "Then: C\n",
    "\n",
    "A\tB\tC\n",
    "1\t1\t1\n",
    "1\t0\t0\n",
    "0\t1\t0\n",
    "0\t0\t0\n",
    "If: A or B\n",
    "\n",
    "Then: C\n",
    "\n",
    "Truth table:\n",
    "\n",
    "A\tB\tC\n",
    "1\t1\t1\n",
    "1\t0\t1\n",
    "0\t1\t1\n",
    "0\t0\t0\n",
    "If: (A or B) and C\n",
    "\n",
    "Then: D\n",
    "\n",
    "\n",
    "A\tB\tC\tA OR B\tD\n",
    "1\t1\t1\t1\t1\n",
    "1\t1\t0\t1\t0\n",
    "1\t0\t1\t1\t1\n",
    "1\t0\t0\t1\t0\n",
    "0\t1\t1\t1\t1\n",
    "0\t1\t0\t1\t0\n",
    "0\t0\t1\t0\t0\n",
    "0\t0\t0\t0\t0\n",
    " \t \t \t \t "
   ]
  },
  {
   "cell_type": "raw",
   "id": "1431d9b5",
   "metadata": {},
   "source": [
    "4. What are the values of the following expressions?\n",
    "(5 > 4) and (3 == 5)\n",
    "not (5 > 4)\n",
    "(5 > 4) or (3 == 5)\n",
    "not ((5 > 4) or (3 == 5))\n",
    "(True and True) and (True == False)\n",
    "(not False) or (not True)"
   ]
  },
  {
   "cell_type": "code",
   "execution_count": null,
   "id": "69eaf731",
   "metadata": {},
   "outputs": [],
   "source": [
    "(5 > 4) and (3 == 5)"
   ]
  },
  {
   "cell_type": "code",
   "execution_count": null,
   "id": "4e2d501c",
   "metadata": {},
   "outputs": [],
   "source": [
    "not (5 > 4)"
   ]
  },
  {
   "cell_type": "code",
   "execution_count": null,
   "id": "2dccd0bd",
   "metadata": {},
   "outputs": [],
   "source": [
    "(5 > 4) or (3 == 5)"
   ]
  },
  {
   "cell_type": "code",
   "execution_count": null,
   "id": "f0707c9e",
   "metadata": {},
   "outputs": [],
   "source": [
    "not ((5 > 4) or (3 == 5))"
   ]
  },
  {
   "cell_type": "code",
   "execution_count": null,
   "id": "39c0b1a3",
   "metadata": {},
   "outputs": [],
   "source": [
    "(True and True) and (True == False)"
   ]
  },
  {
   "cell_type": "code",
   "execution_count": null,
   "id": "2978aec0",
   "metadata": {},
   "outputs": [],
   "source": [
    "(not False) or (not True)"
   ]
  },
  {
   "cell_type": "raw",
   "id": "280f2140",
   "metadata": {},
   "source": [
    "5. What are the six comparison operators?\n",
    "Answer:  less than, python greater than, Less Than or Equal To, Equal to or greater than, Python Equal To and Python Not Equal Operator."
   ]
  },
  {
   "cell_type": "raw",
   "id": "2ea375d6",
   "metadata": {},
   "source": [
    "6. How do you tell the difference between the equal to and assignment operators?Describe a\n",
    "condition and when you would use one.\n",
    "Answer: The '=' is the assignment operator, which assigns the value at the right hand side to the variable at the left hand side. Eg. x=4, here the value 4 is assigned to 'x'. On the other hand, '==' is the relational operator which is used to check whether the value on both the sides are equal or not."
   ]
  },
  {
   "cell_type": "raw",
   "id": "08f14a2f",
   "metadata": {},
   "source": [
    "7. Identify the three blocks in this code:spam = 0\n",
    "if spam == 10:\n",
    "print(spam;)\n",
    "if spam > 5:\n",
    "print('bacon)\n",
    "else:\n",
    "print('ham')\n",
    "print('spam')\n",
    "print('spam')\n",
    "Answer: The three blocks are everything inside the if statement and the lines print('bacon') and print('ham').\n",
    "\n",
    "print('eggs')\n",
    "if spam > 5:\n",
    "    print('bacon')\n",
    "else:\n",
    "    print('ham')\n",
    "print('spam')\n"
   ]
  },
  {
   "cell_type": "raw",
   "id": "42a056c9",
   "metadata": {},
   "source": [
    "8. Write code that prints Hello if 1 is stored in spam, prints Howdy if 2 is stored in spam, and prints\n",
    "Greetings! if anything else is stored in spam."
   ]
  },
  {
   "cell_type": "code",
   "execution_count": null,
   "id": "9e883cd6",
   "metadata": {},
   "outputs": [],
   "source": [
    "spam = input()\n",
    "\n",
    "if spam == 1:\n",
    "    print('Hello')\n",
    "elif spam == 2:\n",
    "    print('Howdy')\n",
    "else:\n",
    "    print('Greetings!')"
   ]
  },
  {
   "cell_type": "raw",
   "id": "428a98fd",
   "metadata": {},
   "source": [
    "9.If your programme is stuck in an endless loop, what keys you’ll press?\n",
    "Answer: CTRL + C"
   ]
  },
  {
   "cell_type": "raw",
   "id": "56c6a931",
   "metadata": {},
   "source": [
    "10. How can you tell the difference between break and continue?\n",
    "Answer: How can you tell the difference between break and continue Python?\n",
    "Break statement will end up in the innermost loop if it is used within a nested loop. While using the continue statement the loops do not terminate but continuously go on with the next iteration"
   ]
  },
  {
   "cell_type": "raw",
   "id": "47a5bac6",
   "metadata": {},
   "source": [
    "11. In a for loop, what is the difference between range(10), range(0, 10), and range(0, 10, 1)?\n",
    "Answer: range(start, stop, step)\n",
    "\n",
    "They all do the same thing. The range(10) call ranges from 0 up to (but not including) 10, range(0,10) explicitly tells the loop to start at 0 , and range (0,10,1) explicitly tells the loop to increase the variable by 1 on each iteration."
   ]
  },
  {
   "cell_type": "raw",
   "id": "8d3e46fe",
   "metadata": {},
   "source": [
    "12. Write a short program that prints the numbers 1 to 10 using a for loop. Then write an equivalent\n",
    "program that prints the numbers 1 to 10 using a while loop."
   ]
  },
  {
   "cell_type": "code",
   "execution_count": null,
   "id": "dc5067e0",
   "metadata": {},
   "outputs": [],
   "source": [
    "for i in range(1, 11):\n",
    "    print(i)"
   ]
  },
  {
   "cell_type": "code",
   "execution_count": null,
   "id": "e94de3fc",
   "metadata": {},
   "outputs": [],
   "source": [
    "i = 1\n",
    "while(i<=10):\n",
    "    print(i)\n",
    "    i + 1"
   ]
  },
  {
   "cell_type": "markdown",
   "id": "fd52f057",
   "metadata": {},
   "source": [
    "13. If you had a function named bacon() inside a module named spam, how would you call it after\n",
    "importing spam?\n",
    "Answer: spam. bacon()."
   ]
  }
 ],
 "metadata": {
  "kernelspec": {
   "display_name": "Python 3 (ipykernel)",
   "language": "python",
   "name": "python3"
  },
  "language_info": {
   "codemirror_mode": {
    "name": "ipython",
    "version": 3
   },
   "file_extension": ".py",
   "mimetype": "text/x-python",
   "name": "python",
   "nbconvert_exporter": "python",
   "pygments_lexer": "ipython3",
   "version": "3.9.12"
  }
 },
 "nbformat": 4,
 "nbformat_minor": 5
}
