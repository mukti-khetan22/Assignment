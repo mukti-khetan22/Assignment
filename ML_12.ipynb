{
 "cells": [
  {
   "cell_type": "markdown",
   "id": "167d054f",
   "metadata": {},
   "source": [
    "1. What is prior probability? Give an example. Answer: Prior probability is the probability of an event based on existing knowledge or information, before taking into account new data or evidence. An example of prior probability is the probability of a coin landing heads up, which is 0.5 assuming the coin is fair, before flipping the coin and observing the outcome."
   ]
  },
  {
   "cell_type": "markdown",
   "id": "8a44d1ef",
   "metadata": {},
   "source": [
    "2. What is posterior probability? Give an example. Answer: Posterior probability is the updated probability of an event based on new data or evidence, using Bayes' theorem. An example of posterior probability is the probability of a person having a disease, given the results of a medical test and their prior probability of having the disease"
   ]
  },
  {
   "cell_type": "markdown",
   "id": "04f4c331",
   "metadata": {},
   "source": [
    "3. What is likelihood probability? Give an example. Answer: Likelihood probability is the probability of observing a set of data or evidence, given a specific hypothesis or model. An example of likelihood probability is the probability of obtaining a set of coin toss outcomes, given a specific probability of heads and tails for the coin."
   ]
  },
  {
   "cell_type": "markdown",
   "id": "fbf7bd5a",
   "metadata": {},
   "source": [
    "4. What is Naïve Bayes classifier? Why is it named so? Answer: Naïve Bayes classifier is a probabilistic machine learning algorithm used for classification tasks, based on Bayes' theorem and the assumption that the features are conditionally independent. It is named \"naïve\" because it assumes that the features are independent, which is often not the case in real-world problems, but still produces good results in practice."
   ]
  },
  {
   "cell_type": "markdown",
   "id": "c3f5d6c4",
   "metadata": {},
   "source": [
    "5. What is optimal Bayes classifier? Answer: Optimal Bayes classifier is a classifier that assigns labels to data points based on the class with the highest posterior probability, using Bayes' theorem and the knowledge of the prior probabilities and likelihood probabilities of the classes."
   ]
  },
  {
   "cell_type": "markdown",
   "id": "ca610dbe",
   "metadata": {},
   "source": [
    "6. Write any two features of Bayesian learning methods. Answer: Two features of Bayesian learning methods are the use of prior probabilities and the ability to update the model as new data is observed."
   ]
  },
  {
   "cell_type": "markdown",
   "id": "4e8d1e43",
   "metadata": {},
   "source": [
    "7. Define the concept of consistent learners. Answer: Consistent learners are machine learning algorithms that converge to the true hypothesis or function as the amount of training data increases."
   ]
  },
  {
   "cell_type": "markdown",
   "id": "22c34124",
   "metadata": {},
   "source": [
    "8. Write any two strengths of Bayes classifier. Answer: Two strengths of Bayes classifier are its ability to handle high-dimensional data and its effectiveness with small training sets."
   ]
  },
  {
   "cell_type": "markdown",
   "id": "c532d419",
   "metadata": {},
   "source": [
    "9. Write any two weaknesses of Bayes classifier. Answer: Two weaknesses of Bayes classifier are its assumption of feature independence which may not hold in real-world scenarios, and its inability to capture complex relationships between variables."
   ]
  },
  {
   "cell_type": "markdown",
   "id": "c765a82b",
   "metadata": {},
   "source": [
    "10. Explain how Naïve Bayes classifier is used for\n",
    "\n",
    "1. Text classification\n",
    "\n",
    "2. Spam filtering\n",
    "\n",
    "3. Market sentiment analysis\n",
    "Answer: Naïve Bayes classifier is used for text classification by representing text as feature vectors and estimating the probabilities of each category given the observed features.\n",
    "Naïve Bayes classifier is used for spam filtering by learning the probabilities of words or features in spam and non-spam emails and then classifying new emails based on these probabilities.\n",
    "Naïve Bayes classifier is used for market sentiment analysis by learning the probabilities of words or features in positive and negative sentiment texts, such as tweets or news articles, and then classifying new texts based on these probabilities."
   ]
  },
  {
   "cell_type": "code",
   "execution_count": null,
   "id": "150417f5",
   "metadata": {},
   "outputs": [],
   "source": []
  }
 ],
 "metadata": {
  "kernelspec": {
   "display_name": "Python 3 (ipykernel)",
   "language": "python",
   "name": "python3"
  },
  "language_info": {
   "codemirror_mode": {
    "name": "ipython",
    "version": 3
   },
   "file_extension": ".py",
   "mimetype": "text/x-python",
   "name": "python",
   "nbconvert_exporter": "python",
   "pygments_lexer": "ipython3",
   "version": "3.9.12"
  }
 },
 "nbformat": 4,
 "nbformat_minor": 5
}
