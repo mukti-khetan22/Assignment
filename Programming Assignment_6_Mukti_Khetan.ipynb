{
 "cells": [
  {
   "cell_type": "markdown",
   "id": "b037e535",
   "metadata": {},
   "source": [
    "1. Write a Python Program to Display Fibonacci Sequence Using Recursion?\n"
   ]
  },
  {
   "cell_type": "code",
   "execution_count": 2,
   "id": "f87509e5",
   "metadata": {},
   "outputs": [
    {
     "name": "stdout",
     "output_type": "stream",
     "text": [
      "Fibonacci sequence:\n",
      "0\n",
      "1\n",
      "1\n",
      "2\n",
      "3\n",
      "5\n",
      "8\n",
      "13\n",
      "21\n",
      "34\n"
     ]
    }
   ],
   "source": [
    "def recur_fibo(n):\n",
    "   if n <= 1:\n",
    "       return n\n",
    "   else:\n",
    "       return(recur_fibo(n-1) + recur_fibo(n-2))\n",
    "\n",
    "nterms = 10\n",
    "\n",
    "# check if the number of terms is valid\n",
    "if nterms <= 0:\n",
    "   print(\"Plese enter a positive integer\")\n",
    "else:\n",
    "   print(\"Fibonacci sequence:\")\n",
    "   for i in range(nterms):\n",
    "       print(recur_fibo(i))"
   ]
  },
  {
   "cell_type": "markdown",
   "id": "9d95fd8e",
   "metadata": {},
   "source": [
    "2. Write a Python Program to Find Factorial of Number Using Recursion?\n"
   ]
  },
  {
   "cell_type": "code",
   "execution_count": 3,
   "id": "b4cb6dfd",
   "metadata": {},
   "outputs": [
    {
     "name": "stdout",
     "output_type": "stream",
     "text": [
      "The factorial of 7 is 5040\n"
     ]
    }
   ],
   "source": [
    "def recur_factorial(n):\n",
    "   if n == 1:\n",
    "       return n\n",
    "   else:\n",
    "       return n*recur_factorial(n-1)\n",
    "\n",
    "num = 7\n",
    "\n",
    "# check if the number is negative\n",
    "if num < 0:\n",
    "   print(\"Sorry, factorial does not exist for negative numbers\")\n",
    "elif num == 0:\n",
    "   print(\"The factorial of 0 is 1\")\n",
    "else:\n",
    "   print(\"The factorial of\", num, \"is\", recur_factorial(num))"
   ]
  },
  {
   "cell_type": "markdown",
   "id": "933103a7",
   "metadata": {},
   "source": [
    "3. Write a Python Program to calculate your Body Mass Index?\n"
   ]
  },
  {
   "cell_type": "code",
   "execution_count": 9,
   "id": "8ad629a7",
   "metadata": {},
   "outputs": [
    {
     "name": "stdout",
     "output_type": "stream",
     "text": [
      "Enter the height in cm: 165\n",
      "Enter the weight in kg: 61\n",
      "Your Body Mass Index is 22.4058769513315\n",
      "Awesome! You are healthy.\n"
     ]
    }
   ],
   "source": [
    "# asking for input from the users  \n",
    "the_height = float(input(\"Enter the height in cm: \"))  \n",
    "the_weight = float(input(\"Enter the weight in kg: \"))  \n",
    "# defining a function for BMI  \n",
    "the_BMI = the_weight / (the_height/100)**2  \n",
    "# printing the BMI  \n",
    "print(\"Your Body Mass Index is\", the_BMI)  \n",
    "# using the if-elif-else conditions  \n",
    "if the_BMI <= 18.5:  \n",
    "    print(\"Oops! You are underweight.\")  \n",
    "elif the_BMI <= 24.9:  \n",
    "    print(\"Awesome! You are healthy.\")  \n",
    "elif the_BMI <= 29.9:  \n",
    "    the_print(\"Eee! You are over weight.\")  \n",
    "else:  \n",
    "    print(\"Seesh! You are obese.\")  "
   ]
  },
  {
   "cell_type": "markdown",
   "id": "14455b03",
   "metadata": {},
   "source": [
    "4. Write a Python Program to calculate the natural logarithm of any number?\n"
   ]
  },
  {
   "cell_type": "code",
   "execution_count": 4,
   "id": "1ce69efc",
   "metadata": {},
   "outputs": [
    {
     "name": "stdout",
     "output_type": "stream",
     "text": [
      "Natural logarithm of 14 is : 2.6390573296152584\n",
      "Logarithm base 5 of 14 is : 1.6397385131955606\n"
     ]
    }
   ],
   "source": [
    "import math\n",
    " \n",
    "# Printing the log base e of 14\n",
    "print (\"Natural logarithm of 14 is : \", end=\"\")\n",
    "print (math.log(14))\n",
    " \n",
    "# Printing the log base 5 of 14\n",
    "print (\"Logarithm base 5 of 14 is : \", end=\"\")\n",
    "print (math.log(14,5))"
   ]
  },
  {
   "cell_type": "markdown",
   "id": "63349b6a",
   "metadata": {},
   "source": [
    "5. Write a Python Program for cube sum of first n natural numbers?"
   ]
  },
  {
   "cell_type": "code",
   "execution_count": 8,
   "id": "cdd83548",
   "metadata": {},
   "outputs": [
    {
     "name": "stdout",
     "output_type": "stream",
     "text": [
      "3025\n"
     ]
    }
   ],
   "source": [
    "def su(n):\n",
    "    sum = 0\n",
    "    for i in range(1, n+1):\n",
    "        sum +=pow(i,3)\n",
    "         \n",
    "    return sum\n",
    " \n",
    "  \n",
    "# Driver Function\n",
    "n = 10\n",
    "print(su(n))"
   ]
  }
 ],
 "metadata": {
  "kernelspec": {
   "display_name": "Python 3 (ipykernel)",
   "language": "python",
   "name": "python3"
  },
  "language_info": {
   "codemirror_mode": {
    "name": "ipython",
    "version": 3
   },
   "file_extension": ".py",
   "mimetype": "text/x-python",
   "name": "python",
   "nbconvert_exporter": "python",
   "pygments_lexer": "ipython3",
   "version": "3.9.12"
  }
 },
 "nbformat": 4,
 "nbformat_minor": 5
}
