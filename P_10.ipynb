{
 "cells": [
  {
   "cell_type": "markdown",
   "id": "12fd14e1",
   "metadata": {},
   "source": [
    "1.\tHow do you distinguish between shutil.copy() and shutil.copytree()? \n",
    "Answer: shutil.copy() is used to copy a single file from one location to another, whereas shutil.copytree() is used to copy an entire directory tree from one location to another.\n",
    "2.\tWhat function is used to rename files?? \n",
    "Answer: The function used to rename files in Python is os.rename().\n",
    "3.\tWhat is the difference between the delete functions in the send2trash and shutil modules? Answer: The delete function in the send2trash module moves files to the recycle bin or trash, while the delete function in the shutil module permanently deletes files.\n",
    "4.\tZipFile objects have a close() method just like File objects’ close() method. What ZipFile method is equivalent to File objects’ open() method? \n",
    "Answer: The equivalent ZipFile method to File objects' open() method is ZipFile().\n"
   ]
  },
  {
   "cell_type": "markdown",
   "id": "dc50b599",
   "metadata": {},
   "source": [
    "5. Create a programme that searches a folder tree for files with a certain file extension (such as .pdf or .jpg). \n",
    "\n",
    "Answer:import os, shutil\n",
    "\n",
    "def selectiveCopy(folder, extensions, destFolder):\n",
    "\n",
    "folder = os.path.abspath(folder)\n",
    "\n",
    "destFolder = os.path.abspath(destFolder)\n",
    "\n",
    "print('Looking in', folder, 'for files with extensions of', ', '.join(extensions))\n",
    "\n",
    "for foldername, subfolders, filenames in os.walk(folder):\n",
    "\n",
    "for filename in filenames:\n",
    "\n",
    "name, extension = os.path.splitext(filename)\n",
    "\n",
    "if extension in extensions:\n",
    "\n",
    "fileAbsPath = foldername + os.path.sep + filename\n",
    "\n",
    "print('Coping', fileAbsPath, 'to', destFolder)\n",
    "\n",
    "shutil.copy(fileAbsPath, destFolder)\n",
    "\n",
    "extensions = ['.php', '.py']\n",
    "\n",
    "folder = 'randomFolder'\n",
    "\n",
    "destFolder = 'selectiveFolder'\n",
    "\n",
    "selectiveCopy(folder, extensions, destFolder)\n"
   ]
  },
  {
   "cell_type": "code",
   "execution_count": null,
   "id": "43e03662",
   "metadata": {},
   "outputs": [],
   "source": []
  }
 ],
 "metadata": {
  "kernelspec": {
   "display_name": "Python 3 (ipykernel)",
   "language": "python",
   "name": "python3"
  },
  "language_info": {
   "codemirror_mode": {
    "name": "ipython",
    "version": 3
   },
   "file_extension": ".py",
   "mimetype": "text/x-python",
   "name": "python",
   "nbconvert_exporter": "python",
   "pygments_lexer": "ipython3",
   "version": "3.9.12"
  }
 },
 "nbformat": 4,
 "nbformat_minor": 5
}
