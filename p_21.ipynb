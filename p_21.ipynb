{
 "cells": [
  {
   "cell_type": "code",
   "execution_count": 3,
   "id": "b63295c2",
   "metadata": {},
   "outputs": [
    {
     "name": "stdout",
     "output_type": "stream",
     "text": [
      "Parsed Date: 2023-04-28\n",
      "Files in Current Directory: ['.anaconda', '.android', '.conda', '.condarc', '.continuum', '.ipynb_checkpoints', '.ipython', '.jupyter', '.matplotlib', '.ms-ad', '.spss', '13th jan python string and list manupulation.ipynb', '3D Objects', 'A1_MK.ipynb', 'A2_MK.ipynb', 'A3_MK.ipynb', 'A4_MK.ipynb', 'A5_MK.ipynb', 'A6_MK.ipynb', 'A7_MK.ipynb', 'Admission_Prediction.csv', 'advertising (1).csv', 'advertising.csv', 'anaconda1', 'anaconda3', 'AppData', 'Application Data', 'Assigment_4_Mukti_Khetan.ipynb', 'assignment_1_Mukti_Khetan.ipynb', 'Assignment_2_Mukti_Khetan.ipynb', 'Assignment_3_Mukti_Khetan.ipynb', 'Assignment_5_Mukti_Khetan.ipynb', 'Assisgment_8_Mukti_Khetan.ipynb', 'Assisgnment_10_Mukti_Khetan.ipynb', 'Assisgnment_6_Mukti_Khetan.ipynb', 'books.csv', 'books.db', 'Chapter.py', 'conditional statement - if , elif, else.ipynb', 'Contacts', 'Cookies', 'DL_Tensor_Flow.7z', 'DL_Theory_1.ipynb', 'Documents', 'Dropbox', 'Favorites', 'for loop practice  (1).ipynb', 'Function continued .ipynb', 'Google Drive Streaming', 'Hist_Age.jpg', 'IntelGraphicsProfiles', 'iterator , generator , map , reduce , filter , basic file operation .ipynb', 'Linear regression part 1 (1).ipynb', 'Linear regression part 1 (2).ipynb', 'Linear regression.ipynb', 'linear_reg.sav', 'Links', 'list manupulaton.ipynb', 'Local Settings', 'logging and debuging.ipynb', 'master.csv', 'MK.ipynb', 'ML_1.ipynb', 'ML_10.ipynb', 'ML_12.ipynb', 'ML_13.ipynb', 'ML_14.ipynb', 'ML_15.ipynb', 'ML_16.ipynb', 'ML_17.ipynb', 'ML_18n.ipynb', 'ML_19.ipynb', 'ML_2.ipynb', 'ML_20.ipynb', 'ML_21.ipynb', 'ML_22.ipynb', 'ML_23.ipynb', 'ML_24.ipynb', 'ML_3.ipynb', 'ML_4.ipynb', 'ML_5.ipynb', 'ML_6.ipynb', 'ML_7.ipynb', 'ML_8.ipynb', 'ML_9.ipynb', 'Music', 'My Documents', 'M_1.ipynb', 'NetHood', 'NTUSER.DAT', 'ntuser.dat.LOG1', 'ntuser.dat.LOG2', 'NTUSER.DAT{38829874-8cb2-11eb-ac50-914fc32a85df}.TM.blf', 'NTUSER.DAT{38829874-8cb2-11eb-ac50-914fc32a85df}.TMContainer00000000000000000001.regtrans-ms', 'NTUSER.DAT{38829874-8cb2-11eb-ac50-914fc32a85df}.TMContainer00000000000000000002.regtrans-ms', 'ntuser.ini', 'OneDrive', 'Pictures', 'PrintHood', 'Programming Assignment_1_Mukti_Khetan.ipynb', 'Programming Assignment_2_Mukti_Khetan.ipynb', 'Programming Assignment_3_Mukti_Khetan.ipynb', 'Programming Assignment_4_Mukti_Khetan.ipynb', 'Programming Assignment_5_Mukti_Khetan.ipynb', 'Programming Assignment_6_Mukti_Khetan.ipynb', 'Programming Assignment_7_Mukti_Khetan.ipynb', 'python basic.ipynb', 'PyTorch 1.1.ipynb', 'P_10.ipynb', 'p_11.ipynb', 'p_12.ipynb', 'p_13.ipynb', 'p_14.ipynb', 'p_15.ipynb', 'p_16.ipynb', 'p_17.ipynb', 'p_18.ipynb', 'p_19.ipynb', 'P_8.ipynb', 'Recent', 'Saved Games', 'Searches', 'SendTo', 'Start Menu', 'Templates', 'tensorflow-2.12.0-cp310-cp310-win_amd64.whl', 'Tensorflow_1.1.ipynb', 'Tensorflow_1.2.ipynb', 'test.html', 'test.txt', 'tf2.7z', 'today.txt', 'Tracing', 'TUPLE SET AND DICT.ipynb', 'Untitled.ipynb', 'untitled.md', 'untitled.py', 'Untitled1.ipynb', 'Untitled10.ipynb', 'Untitled11.ipynb', 'Untitled12.ipynb', 'Untitled13.ipynb', 'Untitled14.ipynb', 'Untitled15.ipynb', 'Untitled16.ipynb', 'Untitled17.ipynb', 'Untitled18.ipynb', 'Untitled2.ipynb', 'Untitled3.ipynb', 'Untitled4.ipynb', 'Untitled5.ipynb', 'Untitled6.ipynb', 'Untitled7.ipynb', 'Untitled8.ipynb', 'Untitled9.ipynb', 'Untitled_PV-Copy1.ipynb', 'Untitled_PV_Copy1 (1).ipynb', 'Videos', 'while loop and basic of function .ipynb']\n",
      "Files in Parent Directory: ['All Users', 'Default', 'Default User', 'defaultuser100000', 'desktop.ini', 'mukti', 'Mukti2', 'Public', 'TEMP']\n",
      "Day of Birth: 1990-05-15\n",
      "Day of the Week of Birth: Tuesday\n",
      "When you will be (or were) 10,000 days old: 2017-09-30\n"
     ]
    }
   ],
   "source": [
    "import datetime\n",
    "import os\n",
    "from multiprocessing import Process\n",
    "import random\n",
    "\n",
    "# 1. Add the current date to the text file today.txt as a string.\n",
    "current_date = str(datetime.date.today())\n",
    "with open('today.txt', 'w') as file:\n",
    "    file.write(current_date)\n",
    "\n",
    "# 2. Read the text file today.txt into the string today_string\n",
    "with open('today.txt', 'r') as file:\n",
    "    today_string = file.read()\n",
    "\n",
    "# 3. Parse the date from today_string.\n",
    "parsed_date = datetime.datetime.strptime(today_string, '%Y-%m-%d').date()\n",
    "print(\"Parsed Date:\", parsed_date)\n",
    "\n",
    "# 4. List the files in your current directory\n",
    "files_current_directory = os.listdir('.')\n",
    "print(\"Files in Current Directory:\", files_current_directory)\n",
    "\n",
    "# 5. Create a list of all the files in your parent directory (minimum five files should be available).\n",
    "parent_directory = os.path.dirname(os.getcwd())\n",
    "files_parent_directory = os.listdir(parent_directory)\n",
    "print(\"Files in Parent Directory:\", files_parent_directory)\n",
    "\n",
    "# 6. Use multiprocessing to create three separate processes. Make each one wait a random number of seconds\n",
    "# between one and five, print the current time, and then exit.\n",
    "def print_current_time():\n",
    "    wait_time = random.randint(1, 5)\n",
    "    print(\"Waiting for\", wait_time, \"seconds...\")\n",
    "    datetime_now = datetime.datetime.now()\n",
    "    print(\"Current Time:\", datetime_now)\n",
    "    exit()\n",
    "\n",
    "processes = []\n",
    "for _ in range(3):\n",
    "    p = Process(target=print_current_time)\n",
    "    p.start()\n",
    "    processes.append(p)\n",
    "\n",
    "for p in processes:\n",
    "    p.join()\n",
    "\n",
    "# 7. Create a date object of your day of birth.\n",
    "day_of_birth = datetime.date(1990, 5, 15)\n",
    "print(\"Day of Birth:\", day_of_birth)\n",
    "\n",
    "# 8. What day of the week was your day of birth?\n",
    "day_of_week_birth = day_of_birth.strftime('%A')\n",
    "print(\"Day of the Week of Birth:\", day_of_week_birth)\n",
    "\n",
    "# 9. When will you be (or when were you) 10,000 days old?\n",
    "ten_thousand_days_old = day_of_birth + datetime.timedelta(days=10000)\n",
    "print(\"When you will be (or were) 10,000 days old:\", ten_thousand_days_old)"
   ]
  },
  {
   "cell_type": "code",
   "execution_count": null,
   "id": "2756a1ab",
   "metadata": {},
   "outputs": [],
   "source": []
  }
 ],
 "metadata": {
  "kernelspec": {
   "display_name": "Python 3 (ipykernel)",
   "language": "python",
   "name": "python3"
  },
  "language_info": {
   "codemirror_mode": {
    "name": "ipython",
    "version": 3
   },
   "file_extension": ".py",
   "mimetype": "text/x-python",
   "name": "python",
   "nbconvert_exporter": "python",
   "pygments_lexer": "ipython3",
   "version": "3.9.12"
  }
 },
 "nbformat": 4,
 "nbformat_minor": 5
}
