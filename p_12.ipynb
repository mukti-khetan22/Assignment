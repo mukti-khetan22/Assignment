{
 "cells": [
  {
   "cell_type": "markdown",
   "id": "a195a1bf",
   "metadata": {},
   "source": [
    "1.\tPdfFileReader() and PdfFileWriter() File objects should be opened in 'rb' and 'wb' modes respectively.\n",
    "\n",
    "2.\tYou can get a Page object for page 5 from a PdfFileReader object by calling its getPage(4) method (remembering that page indexes start at 0).\n",
    "\n",
    "3.\tThe numPages variable of a PdfFileReader object stores the number of pages in the PDF document.\n",
    "\n",
    "4.\tBefore obtaining Page objects from an encrypted PdfFileReader object, you must call its decrypt('swordfish') method and provide the correct password.\n",
    "\n",
    "5.\tTo rotate a page, you can call its rotateClockwise() or rotateCounterClockwise() method.\n",
    "\n",
    "6.\tA Paragraph object represents a paragraph of text, while a Run object represents a contiguous run of text with the same character style.\n",
    "\n",
    "7.\tTo obtain a list of Paragraph objects for a Document object stored in a variable named doc, you can call its paragraphs attribute (e.g., doc.paragraphs).\n",
    "\n",
    "8.\tA Run object has bold, underline, italic, strike, and outline variables.\n",
    "\n",
    "9.\tThe bold variable can be set to True to make the text bold, False to make it not bold, or None to inherit the style from the parent Paragraph object.\n",
    "\n",
    "10.\tTo create a Document object for a new Word document, you can call the docx.Document() function.\n",
    "\n",
    "11.\tTo add a paragraph with the text 'Hello, there!' to a Document object stored in a variable named doc, you can call its add_paragraph('Hello, there!') method.\n",
    "\n",
    "12.\tThe integers 0, 1, 2, 3, 4, and 5 represent the levels of headings available in Word documents.\n",
    "\n"
   ]
  },
  {
   "cell_type": "code",
   "execution_count": null,
   "id": "810aacd0",
   "metadata": {},
   "outputs": [],
   "source": []
  }
 ],
 "metadata": {
  "kernelspec": {
   "display_name": "Python 3 (ipykernel)",
   "language": "python",
   "name": "python3"
  },
  "language_info": {
   "codemirror_mode": {
    "name": "ipython",
    "version": 3
   },
   "file_extension": ".py",
   "mimetype": "text/x-python",
   "name": "python",
   "nbconvert_exporter": "python",
   "pygments_lexer": "ipython3",
   "version": "3.9.12"
  }
 },
 "nbformat": 4,
 "nbformat_minor": 5
}
