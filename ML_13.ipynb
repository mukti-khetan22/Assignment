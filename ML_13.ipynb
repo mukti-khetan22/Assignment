{
 "cells": [
  {
   "cell_type": "markdown",
   "id": "c0bd4428",
   "metadata": {},
   "source": [
    "1. Provide an example of the concepts of Prior, Posterior, and Likelihood. Answer: Let's consider an example of a coin toss. The probability of getting a head (H) or tail (T) is 0.5 for a fair coin.\n",
    "\n",
    "Prior: The prior probability is the probability of getting a head before any toss is done. For example, let's say we have no information about the coin, and we assume that the probability of getting a head is 0.5.\n",
    "\n",
    "Likelihood: The likelihood is the probability of the coin toss result given the assumption that the coin is fair or biased. For example, if we believe the coin is biased towards getting heads, then the likelihood of getting a head would be higher than 0.5.\n",
    "\n",
    "Posterior: The posterior probability is the updated probability of the coin being fair or biased after observing the result of the coin toss. For example, if we observe five consecutive heads, the posterior probability of the coin being biased towards getting heads would be higher than the prior probability of 0.5."
   ]
  },
  {
   "cell_type": "markdown",
   "id": "fffd2791",
   "metadata": {},
   "source": [
    "2. What role does Bayes' theorem play in the concept learning principle? Answer: Bayes' theorem plays a fundamental role in the concept learning principle by providing a framework for updating our beliefs about the probability of a hypothesis (i.e., concept) given the available evidence. The principle of concept learning involves using prior knowledge, evidence, and probability theory to learn and update our understanding of a concept. Bayes' theorem allows us to calculate the probability of a hypothesis (i.e., posterior probability) by combining the prior probability with the likelihood of the evidence given the hypothesis. By iteratively applying Bayes' theorem, we can update our understanding of the concept and refine our knowledge over time. Therefore, Bayes' theorem is a key component of the concept learning principle."
   ]
  },
  {
   "cell_type": "markdown",
   "id": "f6269590",
   "metadata": {},
   "source": [
    "3. Offer an example of how the Nave Bayes classifier is used in real life. Answer: The Naive Bayes classifier is used in real life for spam email filtering. It analyzes the features of incoming emails and assigns a probability of the email being spam or ham. The classifier is trained using a dataset of labeled emails and is also used in applications such as sentiment analysis and fraud detection."
   ]
  },
  {
   "cell_type": "markdown",
   "id": "95d71949",
   "metadata": {},
   "source": [
    "4. Can the Nave Bayes classifier be used on continuous numeric data? If so, how can you go about\n",
    "doing it?. Answer: Yes, Naive Bayes classifier can be used on continuous numeric data by modeling the data with a probability density function such as the normal distribution. We can then apply Bayes' theorem to calculate the probability of each class given the features, and use different variations of Naive Bayes classifiers such as Gaussian Naive Bayes and KDE Naive Bayes depending on the complexity of the data."
   ]
  },
  {
   "cell_type": "markdown",
   "id": "98015628",
   "metadata": {},
   "source": [
    "5. What are Bayesian Belief Networks, and how do they work? What are their applications? Are they\n",
    "capable of resolving a wide range of issues? Answer: Bayesian belief networks (BBNs) are graphical models that represent the relationships among variables and their probability distributions using directed acyclic graphs (DAGs). BBNs use Bayesian probability theory to reason about uncertain and complex systems.\n",
    "\n",
    "The nodes in the graph represent random variables, and the edges represent conditional dependencies between them. BBNs use Bayes' theorem to update the probabilities of the nodes given evidence and prior knowledge. BBNs can be used for probabilistic reasoning, decision making, prediction, and diagnostic tasks.\n",
    "\n",
    "Some of the applications of BBNs include fault diagnosis in engineering, medical diagnosis, risk assessment, financial modeling, and natural language processing. They are also used in machine learning and artificial intelligence for classification, clustering, and regression tasks.\n",
    "\n",
    "BBNs are capable of resolving a wide range of issues because they can represent and reason about complex and uncertain systems in a probabilistic way. They are particularly useful when there is incomplete or uncertain information and when there are multiple possible outcomes. However, they can be computationally expensive to train and require a significant amount of data to estimate the probability distributions accurately."
   ]
  },
  {
   "cell_type": "markdown",
   "id": "497d21d2",
   "metadata": {},
   "source": [
    "6. Passengers are checked in an airport screening system to see if there is an intruder. Let I be the\n",
    "random variable that indicates whether someone is an intruder I = 1) or not I = 0), and A be the\n",
    "variable that indicates alarm I = 0). If an intruder is detected with probability P(A = 1|I = 1) = 0.98\n",
    "and a non-intruder is detected with probability P(A = 1|I = 0) = 0.001, an alarm will be triggered,\n",
    "implying the error factor. The likelihood of an intruder in the passenger population is P(I = 1) =\n",
    "0.00001. What are the chances that an alarm would be triggered when an individual is actually an\n",
    "intruder? Answer: By Bayes' theorem, we have:\n",
    "\n",
    "P(A = 1|B = 1) = P(B = 1|A = 1) * P(A = 1) / P(B = 1)\n",
    "\n",
    "We know that P(B = 1|A = 1) = 0.98, the probability that an alarm is triggered given that an individual is actually an intruder. We also know that P(A = 1|I = 0) = 0.001, the probability that an alarm is triggered given that an individual is not an intruder. Therefore, the probability that an alarm is not triggered when an individual is an intruder is P(B = 0|A = 1) = 1 - P(B = 1|A = 1) = 0.02.\n",
    "\n",
    "To calculate the denominator, we can use the law of total probability:\n",
    "\n",
    "P(B = 1) = P(B = 1|A = 1) * P(A = 1) + P(B = 1|A = 0) * P(A = 0)\n",
    "= 0.98 * 0.00001 + 0.001 * (1 - 0.00001)\n",
    "= 0.00001197\n",
    "\n",
    "Therefore, the probability that an alarm would be triggered when an individual is actually an intruder is:\n",
    "\n",
    "P(A = 1|B = 1) = 0.98 * 0.00001 / 0.00001197\n",
    "≈ 0.817\n",
    "\n",
    "So there is about an 81.7% chance that an alarm would be triggered when an individual is actually an intruder."
   ]
  },
  {
   "cell_type": "markdown",
   "id": "58518eb2",
   "metadata": {},
   "source": [
    "7. An antibiotic resistance test (random variable T) has 1% false positives (i.e., 1% of those who are\n",
    "not immune to an antibiotic display a positive result in the test) and 5% false negatives (i.e., 1% of\n",
    "those who are not resistant to an antibiotic show a positive result in the test) (i.e. 5 percent of those\n",
    "actually resistant to an antibiotic test negative). Assume that 2% of those who were screened were\n",
    "antibiotic-resistant. Calculate the likelihood that a person who tests positive is actually immune\n",
    "(random variable D). Answer:  Let D be the random variable indicating whether a person is immune to the antibiotic (D = 1) or not (D = 0), and T be the random variable indicating the result of the resistance test (T = 1 for positive, T = 0 for negative).\n",
    "\n",
    "We are given the following probabilities:\n",
    "\n",
    "P(T = 1|D = 0) = 0.01, the probability of a false positive (Type I error)\n",
    "P(T = 0|D = 1) = 0.05, the probability of a false negative (Type II error)\n",
    "P(D = 1) = 0.02, the prior probability of a person being antibiotic-resistant\n",
    "We want to calculate the probability that a person who tests positive is actually immune, i.e., P(D = 1|T = 1).\n",
    "\n",
    "Using Bayes' theorem, we have:\n",
    "\n",
    "P(D = 1|T = 1) = P(T = 1|D = 1) * P(D = 1) / P(T = 1)\n",
    "\n",
    "The probability P(T = 1) can be calculated using the law of total probability:\n",
    "\n",
    "P(T = 1) = P(T = 1|D = 0) * P(D = 0) + P(T = 1|D = 1) * P(D = 1)\n",
    "= 0.01 * 0.98 + (1 - 0.05) * 0.02\n",
    "= 0.0212\n",
    "\n",
    "Therefore, the likelihood that a person who tests positive is actually immune is:\n",
    "\n",
    "P(D = 1|T = 1) = P(T = 1|D = 1) * P(D = 1) / P(T = 1)\n",
    "= (1 - P(T = 0|D = 1)) * P(D = 1) / P(T = 1)\n",
    "= (1 - 0.05) * 0.02 / 0.0212\n",
    "≈ 0.9434\n",
    "\n",
    "So there is about a 94.34% likelihood that a person who tests positive is actually immune to the antibiotic."
   ]
  },
  {
   "cell_type": "markdown",
   "id": "5f3c5a12",
   "metadata": {},
   "source": [
    "8. In order to prepare for the test, a student knows that there will be one question in the exam that\n",
    "is either form A, B, or C. The chances of getting an A, B, or C on the exam are 30 percent, 20%, and\n",
    "50 percent, respectively. During the planning, the student solved 9 of 10 type A problems, 2 of 10\n",
    "type B problems, and 6 of 10 type C problems.\n",
    "\n",
    "1. What is the likelihood that the student can solve the exam problem?\n",
    "\n",
    "2. Given the student's solution, what is the likelihood that the problem was of form A? Answer: Let S be the event that the student can solve the exam problem, and let P(A), P(B), and P(C) be the probabilities of the problem being of form A, B, and C, respectively. We are given P(A) = 0.3, P(B) = 0.2, and P(C) = 0.5. The probability of the student being able to solve a problem of form A is P(S|A) = 9/10, the probability of the student being able to solve a problem of form B is P(S|B) = 2/10, and the probability of the student being able to solve a problem of form C is P(S|C) = 6/10. Using Bayes' theorem, we can calculate the likelihood that the student can solve the exam problem:\n",
    "P(S) = P(S|A) * P(A) + P(S|B) * P(B) + P(S|C) * P(C)\n",
    "= (9/10) * 0.3 + (2/10) * 0.2 + (6/10) * 0.5\n",
    "= 0.61\n",
    "\n",
    "Therefore, the likelihood that the student can solve the exam problem is 0.61.\n",
    "\n",
    "Let A be the event that the exam problem is of form A. We want to calculate the probability of A given that the student can solve the problem, i.e., P(A|S). Using Bayes' theorem:\n",
    "P(A|S) = P(S|A) * P(A) / P(S)\n",
    "= (9/10) * 0.3 / 0.61\n",
    "≈ 0.4426\n",
    "\n",
    "Therefore, given that the student can solve the problem, there is about a 44.26% likelihood that the problem was of form A.\n"
   ]
  },
  {
   "cell_type": "markdown",
   "id": "4289c82a",
   "metadata": {},
   "source": [
    "9. A bank installs a CCTV system to track and photograph incoming customers. Despite the constant\n",
    "influx of customers, we divide the timeline into 5 minute bins. There may be a customer coming into\n",
    "the bank with a 5% chance in each 5-minute time period, or there may be no customer (again, for\n",
    "simplicity, we assume that either there is 1 customer or none, not the case of multiple customers). If\n",
    "\n",
    "there is a client, the CCTV will detect them with a 99 percent probability. If there is no customer, the\n",
    "camera can take a false photograph with a 10% chance of detecting movement from other objects.\n",
    "\n",
    "1. How many customers come into the bank on a daily basis (10 hours)?\n",
    "\n",
    "2. On a daily basis, how many fake photographs (photographs taken when there is no\n",
    "customer) and how many missed photographs (photographs taken when there is a customer) are\n",
    "there?\n",
    "\n",
    "3. Explain likelihood that there is a customer if there is a photograph? Answer: In a 10-hour workday, there are 60 * 10 / 5 = 120 bins of 5-minute periods. The probability of a customer coming into the bank in each 5-minute period is 0.05. Therefore, on average, there will be 120 * 0.05 = 6 customers coming into the bank on a daily basis.\n",
    "\n",
    "The probability of taking a false photograph when there is no customer in each 5-minute period is 0.1. So, on average, there will be 120 * 0.1 = 12 fake photographs taken in a day. The probability of not detecting a customer when there is one in each 5-minute period is 0.01. So, on average, there will be 120 * 0.01 = 1.2 missed photographs taken in a day. Since we assume that only one customer enters the bank in each period, there will be only one missed photograph taken for each customer.\n",
    "\n",
    "The likelihood that there is a customer given that there is a photograph can be calculated using Bayes' theorem. Let C be the event that there is a customer, and P be the event that there is a photograph. Then the likelihood of there being a customer given that there is a photograph is:\n",
    "\n",
    "P(C|P) = P(P|C) * P(C) / P(P)\n",
    "\n",
    "where P(P|C) is the probability of a photograph being taken given that there is a customer, which is 0.99, P(C) is the probability of there being a customer, which is 0.05, and P(P) is the probability of a photograph being taken, which is the sum of the probability of a photograph being taken given that there is a customer and the probability of a photograph being taken when there is no customer, which is 0.99 * 0.05 + 0.1 * 0.95 = 0.1445. Therefore, the likelihood of there being a customer given that there is a photograph is:\n",
    "\n",
    "P(C|P) = 0.99 * 0.05 / 0.1445 = 0.342."
   ]
  },
  {
   "cell_type": "markdown",
   "id": "fba0a63b",
   "metadata": {},
   "source": [
    "10. Create the conditional probability table associated with the node Won Toss in the Bayesian Belief\n",
    "network to represent the conditional independence assumptions of the Nave Bayes classifier for the\n",
    "match winning prediction problem in Section 6.4.4. Answer: Won Toss\tP(Won Toss)\n",
    "True\t0.5\n",
    "False\t0.5\n",
    "This table represents the probability of winning the toss, which is assumed to be independent of the other variables in the network, including the outcome of the match. The probabilities are assumed to be equal for winning or losing the toss, hence both are given a probability of 0.5."
   ]
  },
  {
   "cell_type": "code",
   "execution_count": null,
   "id": "782ec2b5",
   "metadata": {},
   "outputs": [],
   "source": []
  }
 ],
 "metadata": {
  "kernelspec": {
   "display_name": "Python 3 (ipykernel)",
   "language": "python",
   "name": "python3"
  },
  "language_info": {
   "codemirror_mode": {
    "name": "ipython",
    "version": 3
   },
   "file_extension": ".py",
   "mimetype": "text/x-python",
   "name": "python",
   "nbconvert_exporter": "python",
   "pygments_lexer": "ipython3",
   "version": "3.9.12"
  }
 },
 "nbformat": 4,
 "nbformat_minor": 5
}
