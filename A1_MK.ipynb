{
 "cells": [
  {
   "cell_type": "markdown",
   "id": "6b8682ed",
   "metadata": {},
   "source": [
    "Q1. What is the purpose of Python's OOP? Answer:Object-oriented programming is a programming paradigm that provides a means of structuring programs so that properties and behaviors are bundled into individual objects."
   ]
  },
  {
   "cell_type": "markdown",
   "id": "f5a33ab5",
   "metadata": {},
   "source": [
    "Q2. Where does an inheritance search look for an attribute? Answer: An inheritance search looks for an attribute first in the instance object, then in the class the instance was created from, then in all higher superclasses, progressing from left to right (by default). The search stops at the first place the attribute is found."
   ]
  },
  {
   "cell_type": "markdown",
   "id": "a87c5d25",
   "metadata": {},
   "source": [
    "Q3. How do you distinguish between a class object and an instance object? Answer: Object is instance of class and instance means representative of class i.e object."
   ]
  },
  {
   "cell_type": "markdown",
   "id": "ac790a4d",
   "metadata": {},
   "source": [
    "Q4. What makes the first argument in a class’s method function special? Answer: The calling process is automatic while the receiving process is not. This is the reason the first parameter of a function in class must be the object itself. Writing this parameter as self is merely a convention."
   ]
  },
  {
   "cell_type": "markdown",
   "id": "5f337b02",
   "metadata": {},
   "source": [
    "Q5. What is the purpose of the __init__ method? Answer: \"__init__\" is a reseved method in python classes. It is called as a constructor in object oriented terminology. This method is called when an object is created from a class and it allows the class to initialize the attributes of the class"
   ]
  },
  {
   "cell_type": "markdown",
   "id": "406e9fb2",
   "metadata": {},
   "source": [
    "Q6. What is the process for creating a class instance? Answer: To create instances of a class, you call the class using class name and pass in whatever arguments its __init__ method accepts."
   ]
  },
  {
   "cell_type": "markdown",
   "id": "a8f21b13",
   "metadata": {},
   "source": [
    "Q7. What is the process for creating a class? Answer: The first step in creating your own class is identifying what state you want to capture to describe objects."
   ]
  },
  {
   "cell_type": "markdown",
   "id": "c671c895",
   "metadata": {},
   "source": [
    "Q8. How would you define the superclasses of a class? Answer: A superclass is the class from which many subclasses can be created. The subclasses inherit the characteristics of a superclass. The superclass is also known as the parent class or base class. In the above example, Vehicle is the Superclass and its subclasses are Car, Truck and Motorcycle."
   ]
  }
 ],
 "metadata": {
  "kernelspec": {
   "display_name": "Python 3 (ipykernel)",
   "language": "python",
   "name": "python3"
  },
  "language_info": {
   "codemirror_mode": {
    "name": "ipython",
    "version": 3
   },
   "file_extension": ".py",
   "mimetype": "text/x-python",
   "name": "python",
   "nbconvert_exporter": "python",
   "pygments_lexer": "ipython3",
   "version": "3.9.12"
  }
 },
 "nbformat": 4,
 "nbformat_minor": 5
}
