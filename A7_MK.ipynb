{
 "cells": [
  {
   "cell_type": "markdown",
   "id": "a074f568",
   "metadata": {},
   "source": [
    "Q1. What is the purpose of the try statement in python? Answer: The try block lets you test a block of code for errors.\n",
    "    "
   ]
  },
  {
   "cell_type": "markdown",
   "id": "97f32230",
   "metadata": {},
   "source": [
    "Q2. What are the two most popular try statement variations in python? Answer: The Different Try/Except Variations. So far we've used a try / except and even a try / except / except , but this is only two-thirds of the story. There are two other optional segments to a try block: else and finally . Both of these optional blocks will come after the try and the except ."
   ]
  },
  {
   "cell_type": "markdown",
   "id": "d8f412dc",
   "metadata": {},
   "source": [
    "Q3. What is the purpose of the raise statement in python? Answer: The raise keyword is used to raise an exception. You can define what kind of error to raise, and the text to print to the user."
   ]
  },
  {
   "cell_type": "markdown",
   "id": "90dfd231",
   "metadata": {},
   "source": [
    "Q4. What does the assert statement do, and what other statement is it like? Answer: assert statement takes an expression and optional message. assert statement is used to check types, values of argument and the output of the function."
   ]
  },
  {
   "cell_type": "markdown",
   "id": "443ca191",
   "metadata": {},
   "source": [
    "Q5. What is the purpose of the with/as argument, and what other statement is it like? Answer:with statement is used in exception handling to make the code cleaner and much more readable. It simplifies the management of common resources like file streams.The with statement in Python is used for resource management and exception handling. You'd most likely find it when working with file streams."
   ]
  }
 ],
 "metadata": {
  "kernelspec": {
   "display_name": "Python 3 (ipykernel)",
   "language": "python",
   "name": "python3"
  },
  "language_info": {
   "codemirror_mode": {
    "name": "ipython",
    "version": 3
   },
   "file_extension": ".py",
   "mimetype": "text/x-python",
   "name": "python",
   "nbconvert_exporter": "python",
   "pygments_lexer": "ipython3",
   "version": "3.9.12"
  }
 },
 "nbformat": 4,
 "nbformat_minor": 5
}
