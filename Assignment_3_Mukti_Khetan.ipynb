{
 "cells": [
  {
   "cell_type": "markdown",
   "id": "9f787cdd",
   "metadata": {},
   "source": [
    "1. Why are functions advantageous to have in your programs?\n",
    "Answer: Enables reusability and reduces redundancy.\n",
    "Makes a code modular.\n",
    "Provides abstraction functionality.\n",
    "The program becomes easy to understand and manage.\n",
    "Breaks an extensive program into smaller and simpler pieces"
   ]
  },
  {
   "cell_type": "markdown",
   "id": "3cbba570",
   "metadata": {},
   "source": [
    "2. When does the code in a function run: when it is specified or when it is called? Answer: A function is a block of code which only runs when it is called. You can pass data, known as parameters, into a function."
   ]
  },
  {
   "cell_type": "markdown",
   "id": "6b42ea4f",
   "metadata": {},
   "source": [
    "3. What statement creates a function? Answer: Define a function with the def keyword, then write the function identifier (name) followed by parentheses and a colon"
   ]
  },
  {
   "cell_type": "markdown",
   "id": "3573b8ab",
   "metadata": {},
   "source": [
    "4. What is the difference between a function and a function call? Answer: The Function which calls another Function is called Calling Function and function which is called by another Function is call Called Function."
   ]
  },
  {
   "cell_type": "markdown",
   "id": "a5e3835d",
   "metadata": {},
   "source": [
    "5. How many global scopes are there in a Python program? How many local scopes? Answer: There's only one global Python scope and local score per program execution."
   ]
  },
  {
   "cell_type": "markdown",
   "id": "d26203fe",
   "metadata": {},
   "source": [
    "6. What happens to variables in a local scope when the function call returns? Answer: When the execution of the function terminates (returns), the local variables are destroyed."
   ]
  },
  {
   "cell_type": "markdown",
   "id": "06ffd895",
   "metadata": {},
   "source": [
    "7. What is the concept of a return value? Is it possible to have a return value in an expression? Answer: A return is a value that a function returns to the calling script or function when it completes its task. Yes."
   ]
  },
  {
   "cell_type": "markdown",
   "id": "60bafd4d",
   "metadata": {},
   "source": [
    "8. If a function does not have a return statement, what is the return value of a call to that function? Answer: If no return statement appears in a function definition, control automatically returns to the calling function after the last statement of the called function is executed."
   ]
  },
  {
   "cell_type": "markdown",
   "id": "a029e2d2",
   "metadata": {},
   "source": [
    "9. How do you make a function variable refer to the global variable? Answer: To create a global variable inside a function, we can use the global keyword."
   ]
  },
  {
   "cell_type": "markdown",
   "id": "de0a7127",
   "metadata": {},
   "source": [
    "10. What is the data type of None? Answer: None is a data type of its own (NoneType) and only None can be None."
   ]
  },
  {
   "cell_type": "markdown",
   "id": "1d29e8a9",
   "metadata": {},
   "source": [
    "11. What does the sentence import areallyourpetsnamederic do? Answer:  import statement imports a module named areallyourpetsnamederic."
   ]
  },
  {
   "cell_type": "markdown",
   "id": "b2bc9fa8",
   "metadata": {},
   "source": [
    "12. If you had a bacon() feature in a spam module, what would you call it after importing spam? Answer:  spam. bacon()."
   ]
  },
  {
   "cell_type": "markdown",
   "id": "84ade0bb",
   "metadata": {},
   "source": [
    "13. What can you do to save a programme from crashing if it encounters an error? \n",
    "Answer: \n",
    "i) use break and the loop will end.\n",
    "ii) use pass and the program will pass to the next instruction.\n",
    "iii) sys. exit() exit() quit() and os. _exit(0) will kill the Python interpreter so avoid if possible or at least use with caution."
   ]
  },
  {
   "cell_type": "markdown",
   "id": "44661a8b",
   "metadata": {},
   "source": [
    "14. What is the purpose of the try clause? What is the purpose of the except clause? Answer: The try block lets you test a block of code for errors. The except block lets you handle the error. "
   ]
  }
 ],
 "metadata": {
  "kernelspec": {
   "display_name": "Python 3 (ipykernel)",
   "language": "python",
   "name": "python3"
  },
  "language_info": {
   "codemirror_mode": {
    "name": "ipython",
    "version": 3
   },
   "file_extension": ".py",
   "mimetype": "text/x-python",
   "name": "python",
   "nbconvert_exporter": "python",
   "pygments_lexer": "ipython3",
   "version": "3.9.12"
  }
 },
 "nbformat": 4,
 "nbformat_minor": 5
}
