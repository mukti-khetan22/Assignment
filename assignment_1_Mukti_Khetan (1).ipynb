{
 "cells": [
  {
   "cell_type": "markdown",
   "id": "5f57fa66",
   "metadata": {},
   "source": [
    "1. In the below elements which of them are values or an expression? eg:- values can be\n",
    "integer or string and expressions will be mathematical operators."
   ]
  },
  {
   "cell_type": "markdown",
   "id": "ba87eb2c",
   "metadata": {},
   "source": [
    "Answer: *, -, /, + all are expression and rest are values."
   ]
  },
  {
   "cell_type": "code",
   "execution_count": 1,
   "id": "9f16094d",
   "metadata": {},
   "outputs": [
    {
     "data": {
      "text/plain": [
       "str"
      ]
     },
     "execution_count": 1,
     "metadata": {},
     "output_type": "execute_result"
    }
   ],
   "source": [
    "type('hello')"
   ]
  },
  {
   "cell_type": "code",
   "execution_count": 2,
   "id": "f8a992ad",
   "metadata": {},
   "outputs": [
    {
     "data": {
      "text/plain": [
       "float"
      ]
     },
     "execution_count": 2,
     "metadata": {},
     "output_type": "execute_result"
    }
   ],
   "source": [
    "type(-87.8)"
   ]
  },
  {
   "cell_type": "code",
   "execution_count": 3,
   "id": "87acb196",
   "metadata": {},
   "outputs": [
    {
     "data": {
      "text/plain": [
       "int"
      ]
     },
     "execution_count": 3,
     "metadata": {},
     "output_type": "execute_result"
    }
   ],
   "source": [
    "type(6)"
   ]
  },
  {
   "cell_type": "markdown",
   "id": "2efffbb6",
   "metadata": {},
   "source": [
    "2. What is the difference between string and variable?\n",
    "Answer: A string is a sequence of characters. A variable is a symbolic name that is a reference or pointer to an object. "
   ]
  },
  {
   "cell_type": "markdown",
   "id": "52bc9f37",
   "metadata": {},
   "source": [
    "3. Describe three different data types.\n",
    " \n",
    " Answer \n",
    " \n",
    " Data Types\t                   Examples\t                               Explanation\t\n",
    "  Strings\t               \"Hello!\", \"23.34\"\t               Text - anything between\" \"  \n",
    "  Integers\t                     5364                                \tWhole numbers\t\n",
    "   Floats\t                    3.1415\t                               Decimal Numbers\t\n",
    " "
   ]
  },
  {
   "cell_type": "markdown",
   "id": "1c84988b",
   "metadata": {},
   "source": [
    "\n",
    "4. What is an expression made up of? What do all expressions do?\n",
    "Answer An expression is a combination of operators, constants and variables. An expression is evaluated as per the precedence of its operators\n"
   ]
  },
  {
   "cell_type": "markdown",
   "id": "eb9ba8fe",
   "metadata": {},
   "source": [
    "5. This assignment statements, like spam = 10. What is the difference between an\n",
    "expression and a statement?\n",
    "Answer A statement in Python is not evaluated for some results. An expression in Python is evaluated for some results."
   ]
  },
  {
   "cell_type": "markdown",
   "id": "2a6e22b0",
   "metadata": {},
   "source": [
    "6. After running the following code, what does the variable bacon contain?\n",
    "bacon = 22\n",
    "bacon + 1"
   ]
  },
  {
   "cell_type": "code",
   "execution_count": 4,
   "id": "e595503c",
   "metadata": {},
   "outputs": [],
   "source": [
    "bacon = 22"
   ]
  },
  {
   "cell_type": "code",
   "execution_count": 5,
   "id": "a2ec03b2",
   "metadata": {},
   "outputs": [
    {
     "data": {
      "text/plain": [
       "23"
      ]
     },
     "execution_count": 5,
     "metadata": {},
     "output_type": "execute_result"
    }
   ],
   "source": [
    "bacon + 1"
   ]
  },
  {
   "cell_type": "markdown",
   "id": "61a571bc",
   "metadata": {},
   "source": [
    "7. What should the values of the following two terms be?\n",
    "'spam'+'spamspam'\n",
    "'spam'*3\n",
    "\n"
   ]
  },
  {
   "cell_type": "code",
   "execution_count": 6,
   "id": "05e8b07c",
   "metadata": {},
   "outputs": [
    {
     "data": {
      "text/plain": [
       "'spamspamspam'"
      ]
     },
     "execution_count": 6,
     "metadata": {},
     "output_type": "execute_result"
    }
   ],
   "source": [
    "'spam'+'spamspam'"
   ]
  },
  {
   "cell_type": "code",
   "execution_count": 7,
   "id": "0cbf31a2",
   "metadata": {},
   "outputs": [
    {
     "data": {
      "text/plain": [
       "'spamspamspam'"
      ]
     },
     "execution_count": 7,
     "metadata": {},
     "output_type": "execute_result"
    }
   ],
   "source": [
    "'spam'*3"
   ]
  },
  {
   "cell_type": "markdown",
   "id": "183bc960",
   "metadata": {},
   "source": [
    "8. Why is eggs a valid variable name while 100 is invalid?\n",
    "Answer : Because variable names cannot begin with a number."
   ]
  },
  {
   "cell_type": "markdown",
   "id": "b914edb1",
   "metadata": {},
   "source": [
    "9. What three functions can be used to get the integer, floating-point number, or string\n",
    "version of a value? \n",
    "Answer The int() , float() , and str( ) functions will evaluate to the integer, floating-point number, and string versions of the value passed to them."
   ]
  },
  {
   "cell_type": "markdown",
   "id": "61da9d09",
   "metadata": {},
   "source": [
    "10. Why does this expression cause an error? How can you fix it?\n",
    "' I have eaten'+99+'burrtios'"
   ]
  },
  {
   "cell_type": "code",
   "execution_count": 8,
   "id": "5e67bf51",
   "metadata": {},
   "outputs": [
    {
     "ename": "TypeError",
     "evalue": "can only concatenate str (not \"int\") to str",
     "output_type": "error",
     "traceback": [
      "\u001b[1;31m---------------------------------------------------------------------------\u001b[0m",
      "\u001b[1;31mTypeError\u001b[0m                                 Traceback (most recent call last)",
      "Input \u001b[1;32mIn [8]\u001b[0m, in \u001b[0;36m<cell line: 1>\u001b[1;34m()\u001b[0m\n\u001b[1;32m----> 1\u001b[0m \u001b[38;5;124;43m'\u001b[39;49m\u001b[38;5;124;43m I have eaten\u001b[39;49m\u001b[38;5;124;43m'\u001b[39;49m\u001b[38;5;241;43m+\u001b[39;49m\u001b[38;5;241;43m99\u001b[39;49m\u001b[38;5;241m+\u001b[39m\u001b[38;5;124m'\u001b[39m\u001b[38;5;124mburrtios\u001b[39m\u001b[38;5;124m'\u001b[39m\n",
      "\u001b[1;31mTypeError\u001b[0m: can only concatenate str (not \"int\") to str"
     ]
    }
   ],
   "source": [
    "' I have eaten'+99+'burrtios'"
   ]
  },
  {
   "cell_type": "code",
   "execution_count": 9,
   "id": "47a6916d",
   "metadata": {},
   "outputs": [
    {
     "data": {
      "text/plain": [
       "' I have eaten99burrtios'"
      ]
     },
     "execution_count": 9,
     "metadata": {},
     "output_type": "execute_result"
    }
   ],
   "source": [
    "' I have eaten'+'99'+'burrtios'"
   ]
  },
  {
   "cell_type": "raw",
   "id": "8ec28a1a",
   "metadata": {},
   "source": [
    "All should be in same formate."
   ]
  }
 ],
 "metadata": {
  "kernelspec": {
   "display_name": "Python 3 (ipykernel)",
   "language": "python",
   "name": "python3"
  },
  "language_info": {
   "codemirror_mode": {
    "name": "ipython",
    "version": 3
   },
   "file_extension": ".py",
   "mimetype": "text/x-python",
   "name": "python",
   "nbconvert_exporter": "python",
   "pygments_lexer": "ipython3",
   "version": "3.9.12"
  }
 },
 "nbformat": 4,
 "nbformat_minor": 5
}
