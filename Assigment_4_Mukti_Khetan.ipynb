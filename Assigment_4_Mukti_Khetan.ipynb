{
 "cells": [
  {
   "cell_type": "markdown",
   "id": "519dfba9",
   "metadata": {},
   "source": [
    "1. What exactly is []? Answer: [] is an empty list."
   ]
  },
  {
   "cell_type": "markdown",
   "id": "fe241571",
   "metadata": {},
   "source": [
    "2. 2. In a list of values stored in a variable called spam, how would you assign the value 'Hello' as the\n",
    "third value? (Assume [2, 4, 6, 8, 10] are in spam.)"
   ]
  },
  {
   "cell_type": "code",
   "execution_count": 1,
   "id": "8dfb05e8",
   "metadata": {},
   "outputs": [],
   "source": [
    "spam= ['2', '4', '6', '8', '10']"
   ]
  },
  {
   "cell_type": "code",
   "execution_count": 10,
   "id": "9bbfef73",
   "metadata": {},
   "outputs": [],
   "source": [
    "spam.insert(2,'Hello')"
   ]
  },
  {
   "cell_type": "code",
   "execution_count": 11,
   "id": "f58a71d5",
   "metadata": {},
   "outputs": [
    {
     "data": {
      "text/plain": [
       "['2', '4', 'Hello', '6', 'Hello', '8', '10']"
      ]
     },
     "execution_count": 11,
     "metadata": {},
     "output_type": "execute_result"
    }
   ],
   "source": [
    "spam"
   ]
  },
  {
   "cell_type": "markdown",
   "id": "1dfb7da7",
   "metadata": {},
   "source": []
  },
  {
   "cell_type": "markdown",
   "id": "38dc4d5a",
   "metadata": {},
   "source": [
    "3. What is the value of spam[int(int('3' * 2) / 11)]?"
   ]
  },
  {
   "cell_type": "code",
   "execution_count": 12,
   "id": "73026ef4",
   "metadata": {},
   "outputs": [
    {
     "data": {
      "text/plain": [
       "'6'"
      ]
     },
     "execution_count": 12,
     "metadata": {},
     "output_type": "execute_result"
    }
   ],
   "source": [
    "spam[int(int('3' * 2) / 11)]"
   ]
  },
  {
   "cell_type": "code",
   "execution_count": null,
   "id": "0b0412ac",
   "metadata": {},
   "outputs": [],
   "source": []
  },
  {
   "cell_type": "markdown",
   "id": "611dec18",
   "metadata": {},
   "source": [
    "4. What is the value of spam[-1]?"
   ]
  },
  {
   "cell_type": "code",
   "execution_count": 13,
   "id": "44a92e8e",
   "metadata": {},
   "outputs": [
    {
     "data": {
      "text/plain": [
       "'10'"
      ]
     },
     "execution_count": 13,
     "metadata": {},
     "output_type": "execute_result"
    }
   ],
   "source": [
    "spam[-1]"
   ]
  },
  {
   "cell_type": "markdown",
   "id": "565cf65b",
   "metadata": {},
   "source": [
    "5. What is the value of spam[:2]?"
   ]
  },
  {
   "cell_type": "code",
   "execution_count": 14,
   "id": "3eaa7e0d",
   "metadata": {},
   "outputs": [
    {
     "data": {
      "text/plain": [
       "['2', '4']"
      ]
     },
     "execution_count": 14,
     "metadata": {},
     "output_type": "execute_result"
    }
   ],
   "source": [
    "spam[:2]"
   ]
  },
  {
   "cell_type": "code",
   "execution_count": null,
   "id": "d548914e",
   "metadata": {},
   "outputs": [],
   "source": []
  },
  {
   "cell_type": "markdown",
   "id": "4da58fa5",
   "metadata": {},
   "source": [
    "6. bacon has the list [3.14, 'cat,' '11', 'cat,' True]\n",
    "   What is the value of bacon.index('cat')?"
   ]
  },
  {
   "cell_type": "code",
   "execution_count": 18,
   "id": "074bb4ca",
   "metadata": {},
   "outputs": [],
   "source": [
    "bacon = [3.14, 'cat', '11', 'cat', True]"
   ]
  },
  {
   "cell_type": "code",
   "execution_count": 19,
   "id": "97ff5f4a",
   "metadata": {},
   "outputs": [
    {
     "data": {
      "text/plain": [
       "1"
      ]
     },
     "execution_count": 19,
     "metadata": {},
     "output_type": "execute_result"
    }
   ],
   "source": [
    "bacon.index('cat')"
   ]
  },
  {
   "cell_type": "markdown",
   "id": "7464de4a",
   "metadata": {},
   "source": [
    " 7. How does bacon.append(99) change the look of the list value in bacon?"
   ]
  },
  {
   "cell_type": "code",
   "execution_count": 20,
   "id": "eb10f35d",
   "metadata": {},
   "outputs": [],
   "source": [
    "bacon.append(99)"
   ]
  },
  {
   "cell_type": "markdown",
   "id": "68e628c8",
   "metadata": {},
   "source": [
    "8. How does bacon.remove('cat') change the look of the list in bacon?"
   ]
  },
  {
   "cell_type": "code",
   "execution_count": 21,
   "id": "7b799097",
   "metadata": {},
   "outputs": [],
   "source": [
    "bacon.remove('cat') "
   ]
  },
  {
   "cell_type": "code",
   "execution_count": 22,
   "id": "f6e8317f",
   "metadata": {},
   "outputs": [
    {
     "data": {
      "text/plain": [
       "[3.14, '11', 'cat', True, 99]"
      ]
     },
     "execution_count": 22,
     "metadata": {},
     "output_type": "execute_result"
    }
   ],
   "source": [
    "bacon"
   ]
  },
  {
   "cell_type": "markdown",
   "id": "a1ba89ce",
   "metadata": {},
   "source": [
    "It removed only first position of the 'cat'."
   ]
  },
  {
   "cell_type": "markdown",
   "id": "f5b72287",
   "metadata": {},
   "source": [
    "9. What are the list concatenation and list replication operators? Answer: The operator for list concatenation is +, while the operator for replication is *."
   ]
  },
  {
   "cell_type": "markdown",
   "id": "520925a2",
   "metadata": {},
   "source": [
    "10. What is difference between the list methods append() and insert()? Answer: append() adds an item to the end of a list, whereas . insert() inserts and item in a specified position in the list."
   ]
  },
  {
   "cell_type": "markdown",
   "id": "5840e6c0",
   "metadata": {},
   "source": [
    "11. What are the two methods for removing items from a list? Answer: The methods are remove(), pop() and clear(). "
   ]
  },
  {
   "cell_type": "markdown",
   "id": "d4a8b59d",
   "metadata": {},
   "source": [
    "12. Describe how list values and string values are identical. Answer: The similarity between Lists and Strings in Python is that both are sequences. "
   ]
  },
  {
   "cell_type": "markdown",
   "id": "30a2062a",
   "metadata": {},
   "source": [
    "13. What is the difference between tuples and lists? Answer: tuples are immutable as opposed to lists which are mutable."
   ]
  },
  {
   "cell_type": "markdown",
   "id": "17a74946",
   "metadata": {},
   "source": [
    "14. How do you type a tuple value that only contains the integer 42?"
   ]
  },
  {
   "cell_type": "code",
   "execution_count": 26,
   "id": "d6a79089",
   "metadata": {},
   "outputs": [],
   "source": [
    "a=(42)"
   ]
  },
  {
   "cell_type": "markdown",
   "id": "058641de",
   "metadata": {},
   "source": [
    "15. How do you get a list value's tuple form? How do you get a tuple value's list form? Answer: Using the tuple() built-in function. list() returns a new list generated from the items of the given tuple."
   ]
  },
  {
   "cell_type": "markdown",
   "id": "ae2c4111",
   "metadata": {},
   "source": [
    "16. Variables that &quot;contain&quot; list values are not necessarily lists themselves. Instead, what do they\n",
    "contain? Answer: Variables will contain references to list values rather than list values themselves. But for strings and integer values, variables simply contain the string or integer value."
   ]
  },
  {
   "cell_type": "markdown",
   "id": "2219beae",
   "metadata": {},
   "source": [
    "17. How do you distinguish between copy.copy() and copy.deepcopy()?Answer: copy() create reference to original object. If you change copied object - you change the original object. . deepcopy() creates new object and does real copying of original object to new one. Changing new deepcopied object doesn't affect original object."
   ]
  }
 ],
 "metadata": {
  "kernelspec": {
   "display_name": "Python 3 (ipykernel)",
   "language": "python",
   "name": "python3"
  },
  "language_info": {
   "codemirror_mode": {
    "name": "ipython",
    "version": 3
   },
   "file_extension": ".py",
   "mimetype": "text/x-python",
   "name": "python",
   "nbconvert_exporter": "python",
   "pygments_lexer": "ipython3",
   "version": "3.9.12"
  }
 },
 "nbformat": 4,
 "nbformat_minor": 5
}
