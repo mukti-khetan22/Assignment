{
 "cells": [
  {
   "cell_type": "markdown",
   "id": "0f5d0086",
   "metadata": {},
   "source": [
    "Q1. Describe three applications for exception processing.Answer: There are mainly three kinds of distinguishable errors in Python: syntax errors, exceptions and logical errors."
   ]
  },
  {
   "cell_type": "markdown",
   "id": "c92791d2",
   "metadata": {},
   "source": [
    "Q2. What happens if you don't do something extra to treat an exception? Answer: When an exception occurred, if you don't handle it, the program terminates abruptly and the code past the line that caused the exception will not get executed."
   ]
  },
  {
   "cell_type": "markdown",
   "id": "5113660c",
   "metadata": {},
   "source": [
    "Q3. What are your options for recovering from an exception in your script? Answer: You can also provide a generic except clause, which handles any exception. After the except clause(s), you can include an else-clause. The code in the else-block executes if the code in the try: block does not raise an exception. The else-block is a good place for code that does not need the try: block's protection."
   ]
  },
  {
   "cell_type": "markdown",
   "id": "677599f3",
   "metadata": {},
   "source": [
    "Q4. Describe two methods for triggering exceptions in your script. Answer: To avoid such a scenario, there are two methods to handle Python exceptions: Try – This method catches the exceptions raised by the program. Raise – Triggers an exception manually using custom exceptions."
   ]
  },
  {
   "cell_type": "markdown",
   "id": "bdc7a239",
   "metadata": {},
   "source": [
    "Q5. Identify two methods for specifying actions to be executed at termination time, regardless of\n",
    "whether or not an exception exists. Answer: Exception handling allows you to separate error-handling code from normal code. · An exception is a Python object which represents an error."
   ]
  }
 ],
 "metadata": {
  "kernelspec": {
   "display_name": "Python 3 (ipykernel)",
   "language": "python",
   "name": "python3"
  },
  "language_info": {
   "codemirror_mode": {
    "name": "ipython",
    "version": 3
   },
   "file_extension": ".py",
   "mimetype": "text/x-python",
   "name": "python",
   "nbconvert_exporter": "python",
   "pygments_lexer": "ipython3",
   "version": "3.9.12"
  }
 },
 "nbformat": 4,
 "nbformat_minor": 5
}
