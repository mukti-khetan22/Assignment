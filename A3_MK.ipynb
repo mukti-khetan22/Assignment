{
 "cells": [
  {
   "cell_type": "markdown",
   "id": "c726f60d",
   "metadata": {},
   "source": [
    "1. What is the concept of an abstract superclass? Answer: An abstract superclass is one way to provide re-usable code. You can extend the abstract class and inherit the code. This is sometimes more convenient than using static methods or object composition to share code. The abstract class can \"fix\" parts of the code"
   ]
  },
  {
   "cell_type": "markdown",
   "id": "22b637b0",
   "metadata": {},
   "source": [
    "3. Why does a class need to manually call a superclass's __init__ method? Answer: The main reason for always calling base class _init__ is that base class may typically create member variable and initialize them to defaults. So if you don't call base class init, none of that code would be executed and you would end up with base class that has no member variables."
   ]
  },
  {
   "cell_type": "markdown",
   "id": "a8ce6c87",
   "metadata": {},
   "source": [
    "4. How can you augment, instead of completely replacing, an inherited method? Answer: A more sophisticated way to augment an inherited method involves forwarding. Message forwarding allows you to augment an inherited method in such a way that it can perform its inherited action and some new action"
   ]
  },
  {
   "cell_type": "markdown",
   "id": "1ffa6ec2",
   "metadata": {},
   "source": [
    "5. How is the local scope of a class different from that of a function? Answer: For example, if you assign a value to a name inside a function, then that name will have a local Python scope. In contrast, if you assign a value to a name outside of all functions—say, at the top level of a module—then that name will have a global Python scope."
   ]
  }
 ],
 "metadata": {
  "kernelspec": {
   "display_name": "Python 3 (ipykernel)",
   "language": "python",
   "name": "python3"
  },
  "language_info": {
   "codemirror_mode": {
    "name": "ipython",
    "version": 3
   },
   "file_extension": ".py",
   "mimetype": "text/x-python",
   "name": "python",
   "nbconvert_exporter": "python",
   "pygments_lexer": "ipython3",
   "version": "3.9.12"
  }
 },
 "nbformat": 4,
 "nbformat_minor": 5
}
