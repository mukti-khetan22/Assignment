{
 "cells": [
  {
   "cell_type": "markdown",
   "id": "fac51c45",
   "metadata": {},
   "source": [
    "Q1. Which two operator overloading methods can you use in your classes to support iteration? Answer: The __iter__ returns the iterator object and is implicitly called at the start of loops. The __next__ method returns the next value and is implicitly called at each loop increment."
   ]
  },
  {
   "cell_type": "markdown",
   "id": "5eacc9b8",
   "metadata": {},
   "source": [
    "Q3. In a class, how do you intercept slice operations? Answer:The slice() method returns a portion of an iterable as an object of the slice class based on the specified range."
   ]
  },
  {
   "cell_type": "markdown",
   "id": "ec93b8fd",
   "metadata": {},
   "source": [
    "Q4. In a class, how do you capture in-place addition? Answer: Inplace operations : 1. iadd() :- This function is used to assign and add the current value.the operator x += y to add two objects in-place by calculating the sum x + y and assigning the result to the first operands variable name x . You can set up the in-place addition behavior for your own class by overriding the magic “dunder” method __iadd__(self, other) in your class definition"
   ]
  },
  {
   "cell_type": "markdown",
   "id": "abe32fb3",
   "metadata": {},
   "source": [
    "Q5. When is it appropriate to use operator overloading in python? It allows for reusability; instead of developing numerous methods with minor differences, we can simply write one method and overload it. It also increases code clarity and reduces complexity. Operator overloading also makes the code more concise and easier to understand."
   ]
  }
 ],
 "metadata": {
  "kernelspec": {
   "display_name": "Python 3 (ipykernel)",
   "language": "python",
   "name": "python3"
  },
  "language_info": {
   "codemirror_mode": {
    "name": "ipython",
    "version": 3
   },
   "file_extension": ".py",
   "mimetype": "text/x-python",
   "name": "python",
   "nbconvert_exporter": "python",
   "pygments_lexer": "ipython3",
   "version": "3.9.12"
  }
 },
 "nbformat": 4,
 "nbformat_minor": 5
}
